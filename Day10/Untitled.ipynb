{
 "cells": [
  {
   "cell_type": "code",
   "execution_count": 2,
   "metadata": {},
   "outputs": [],
   "source": [
    "import nltk\n",
    "from nltk.util import ngrams"
   ]
  },
  {
   "cell_type": "code",
   "execution_count": 3,
   "metadata": {},
   "outputs": [],
   "source": [
    "Data = 'Word in a sentence are not tied together as a sequence of POS .'"
   ]
  },
  {
   "cell_type": "code",
   "execution_count": 15,
   "metadata": {},
   "outputs": [
    {
     "name": "stdout",
     "output_type": "stream",
     "text": [
      "1-gram:  ['Word', 'in', 'a', 'sentence', 'are', 'not', 'tied', 'together', 'as', 'a', 'sequence', 'of', 'POS', '.']\n",
      "2-gram:  ['Word in', 'in a', 'a sentence', 'sentence are', 'are not', 'not tied', 'tied together', 'together as', 'as a', 'a sequence', 'sequence of', 'of POS', 'POS .']\n",
      "3-gram:  ['Word in a', 'in a sentence', 'a sentence are', 'sentence are not', 'are not tied', 'not tied together', 'tied together as', 'together as a', 'as a sequence', 'a sequence of', 'sequence of POS', 'of POS .']\n",
      "4-gram:  ['Word in a sentence', 'in a sentence are', 'a sentence are not', 'sentence are not tied', 'are not tied together', 'not tied together as', 'tied together as a', 'together as a sequence', 'as a sequence of', 'a sequence of POS', 'sequence of POS .']\n"
     ]
    }
   ],
   "source": [
    "def extract_ngrams(data, num):\n",
    "    n_grams = ngrams(nltk.word_tokenize(data), num)\n",
    "    return [ ' '.join(grams) for grams in n_grams]\n",
    "print(\"1-gram: \", extract_ngrams(Data, 1))\n",
    "print(\"2-gram: \", extract_ngrams(Data, 2))\n",
    "print(\"3-gram: \", extract_ngrams(Data, 3))\n",
    "print(\"4-gram: \", extract_ngrams(Data, 4))"
   ]
  },
  {
   "cell_type": "code",
   "execution_count": 16,
   "metadata": {},
   "outputs": [],
   "source": [
    "ls=Data.split(\" \")"
   ]
  },
  {
   "cell_type": "code",
   "execution_count": 23,
   "metadata": {},
   "outputs": [],
   "source": [
    "def extract_ngram(ls,num):\n",
    "    temp=list()\n",
    "    for i in range(0,len(ls)-num+1):\n",
    "        temp.append(ls[i:i+num])\n",
    "    return temp\n",
    "        "
   ]
  },
  {
   "cell_type": "code",
   "execution_count": 24,
   "metadata": {},
   "outputs": [
    {
     "name": "stdout",
     "output_type": "stream",
     "text": [
      "1-gram:  [\"['Word']\", \"['in']\", \"['a']\", \"['sentence']\", \"['are']\", \"['not']\", \"['tied']\", \"['together']\", \"['as']\", \"['a']\", \"['sequence']\", \"['of']\", \"['POS']\", \"['.']\"]\n",
      "\n",
      "2-gram:  [\"['Word', 'in']\", \"['in', 'a']\", \"['a', 'sentence']\", \"['sentence', 'are']\", \"['are', 'not']\", \"['not', 'tied']\", \"['tied', 'together']\", \"['together', 'as']\", \"['as', 'a']\", \"['a', 'sequence']\", \"['sequence', 'of']\", \"['of', 'POS']\", \"['POS', '.']\"]\n",
      "\n",
      "3-gram:  [\"['Word', 'in', 'a']\", \"['in', 'a', 'sentence']\", \"['a', 'sentence', 'are']\", \"['sentence', 'are', 'not']\", \"['are', 'not', 'tied']\", \"['not', 'tied', 'together']\", \"['tied', 'together', 'as']\", \"['together', 'as', 'a']\", \"['as', 'a', 'sequence']\", \"['a', 'sequence', 'of']\", \"['sequence', 'of', 'POS']\", \"['of', 'POS', '.']\"]\n",
      "\n",
      "4-gram:  [\"['Word', 'in', 'a', 'sentence']\", \"['in', 'a', 'sentence', 'are']\", \"['a', 'sentence', 'are', 'not']\", \"['sentence', 'are', 'not', 'tied']\", \"['are', 'not', 'tied', 'together']\", \"['not', 'tied', 'together', 'as']\", \"['tied', 'together', 'as', 'a']\", \"['together', 'as', 'a', 'sequence']\", \"['as', 'a', 'sequence', 'of']\", \"['a', 'sequence', 'of', 'POS']\", \"['sequence', 'of', 'POS', '.']\"]\n"
     ]
    }
   ],
   "source": [
    "print(\"1-gram: \", extract_ngram(ls,1))\n",
    "print()\n",
    "print(\"2-gram: \", extract_ngram(ls,2))\n",
    "print()\n",
    "print(\"3-gram: \", extract_ngram(ls,3))\n",
    "print()\n",
    "print(\"4-gram: \", extract_ngram(ls,4))"
   ]
  },
  {
   "cell_type": "code",
   "execution_count": 19,
   "metadata": {},
   "outputs": [
    {
     "data": {
      "text/plain": [
       "2"
      ]
     },
     "execution_count": 19,
     "metadata": {},
     "output_type": "execute_result"
    }
   ],
   "source": [
    "W1='tumour'\n",
    "W2='tutor'\n",
    "nltk.edit_distance(W1,W2)"
   ]
  },
  {
   "cell_type": "code",
   "execution_count": 20,
   "metadata": {},
   "outputs": [
    {
     "name": "stdout",
     "output_type": "stream",
     "text": [
      "2\n"
     ]
    }
   ],
   "source": [
    "def editDistance(str1, str2, m, n): \n",
    "    if m == 0: \n",
    "         return n \n",
    "    if n == 0: \n",
    "        return m \n",
    "    if str1[m-1]== str2[n-1]: \n",
    "        return editDistance(str1, str2, m-1, n-1)  \n",
    "    return 1 + min(editDistance(str1, str2, m, n-1), editDistance(str1, str2, m-1, n),editDistance(str1, str2, m-1, n-1)) \n",
    "W1='tumour'\n",
    "W2='tutor'\n",
    "print(editDistance(W1, W2, len(W1), len(W2)) )"
   ]
  },
  {
   "cell_type": "code",
   "execution_count": null,
   "metadata": {},
   "outputs": [],
   "source": []
  },
  {
   "cell_type": "code",
   "execution_count": null,
   "metadata": {},
   "outputs": [],
   "source": []
  }
 ],
 "metadata": {
  "kernelspec": {
   "display_name": "Python 3",
   "language": "python",
   "name": "python3"
  },
  "language_info": {
   "codemirror_mode": {
    "name": "ipython",
    "version": 3
   },
   "file_extension": ".py",
   "mimetype": "text/x-python",
   "name": "python",
   "nbconvert_exporter": "python",
   "pygments_lexer": "ipython3",
   "version": "3.7.4"
  }
 },
 "nbformat": 4,
 "nbformat_minor": 2
}
