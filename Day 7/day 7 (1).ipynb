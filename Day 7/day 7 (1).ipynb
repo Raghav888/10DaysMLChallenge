{
 "cells": [
  {
   "cell_type": "code",
   "execution_count": 69,
   "metadata": {},
   "outputs": [],
   "source": [
    "import numpy as np\n",
    "import pandas as pd\n",
    "import tensorflow as tf\n",
    "import matplotlib.pyplot as plt\n",
    "import seaborn as sns\n",
    "from tensorflow.keras.utils import to_categorical\n",
    "from sklearn.model_selection import train_test_split"
   ]
  },
  {
   "cell_type": "code",
   "execution_count": 70,
   "metadata": {},
   "outputs": [
    {
     "data": {
      "text/plain": [
       "'import zipfile\\nwith zipfile.ZipFile(\"fashionmnist.zip\", \\'r\\') as zip_ref:\\n    zip_ref.extractall(\"\")'"
      ]
     },
     "execution_count": 70,
     "metadata": {},
     "output_type": "execute_result"
    }
   ],
   "source": [
    "\"\"\"import zipfile\n",
    "with zipfile.ZipFile(\"fashionmnist.zip\", 'r') as zip_ref:\n",
    "    zip_ref.extractall(\"\")\"\"\""
   ]
  },
  {
   "cell_type": "code",
   "execution_count": 71,
   "metadata": {},
   "outputs": [],
   "source": [
    "\n",
    "data_train = pd.read_csv('fashion-mnist_train.csv')\n",
    "data_test = pd.read_csv('fashion-mnist_test.csv')"
   ]
  },
  {
   "cell_type": "code",
   "execution_count": 72,
   "metadata": {},
   "outputs": [
    {
     "data": {
      "text/plain": [
       "Index(['label', 'pixel1', 'pixel2', 'pixel3', 'pixel4', 'pixel5', 'pixel6',\n",
       "       'pixel7', 'pixel8', 'pixel9',\n",
       "       ...\n",
       "       'pixel775', 'pixel776', 'pixel777', 'pixel778', 'pixel779', 'pixel780',\n",
       "       'pixel781', 'pixel782', 'pixel783', 'pixel784'],\n",
       "      dtype='object', length=785)"
      ]
     },
     "execution_count": 72,
     "metadata": {},
     "output_type": "execute_result"
    }
   ],
   "source": [
    "data_train.columns"
   ]
  },
  {
   "cell_type": "code",
   "execution_count": 73,
   "metadata": {},
   "outputs": [],
   "source": [
    "img_rows, img_cols = 28, 28\n",
    "input_shape = (img_rows, img_cols, 1)"
   ]
  },
  {
   "cell_type": "code",
   "execution_count": 74,
   "metadata": {},
   "outputs": [],
   "source": [
    "x_train = np.array(data_train.drop([\"label\"],axis=1))\n",
    "y_train = np.array(data_train[\"label\"])"
   ]
  },
  {
   "cell_type": "code",
   "execution_count": 75,
   "metadata": {},
   "outputs": [],
   "source": [
    "x_test = np.array(data_test.drop([\"label\"],axis=1))\n",
    "y_test = np.array(data_test[\"label\"])"
   ]
  },
  {
   "cell_type": "code",
   "execution_count": 76,
   "metadata": {},
   "outputs": [
    {
     "data": {
      "text/plain": [
       "(60000, 784)"
      ]
     },
     "execution_count": 76,
     "metadata": {},
     "output_type": "execute_result"
    }
   ],
   "source": [
    "x_train.shape\n"
   ]
  },
  {
   "cell_type": "code",
   "execution_count": 77,
   "metadata": {},
   "outputs": [
    {
     "data": {
      "text/plain": [
       "(10000, 784)"
      ]
     },
     "execution_count": 77,
     "metadata": {},
     "output_type": "execute_result"
    }
   ],
   "source": [
    "x_test.shape"
   ]
  },
  {
   "cell_type": "code",
   "execution_count": 78,
   "metadata": {},
   "outputs": [
    {
     "data": {
      "text/plain": [
       "9    6000\n",
       "8    6000\n",
       "7    6000\n",
       "6    6000\n",
       "5    6000\n",
       "4    6000\n",
       "3    6000\n",
       "2    6000\n",
       "1    6000\n",
       "0    6000\n",
       "Name: label, dtype: int64"
      ]
     },
     "execution_count": 78,
     "metadata": {},
     "output_type": "execute_result"
    }
   ],
   "source": [
    "data_train[\"label\"].value_counts()"
   ]
  },
  {
   "cell_type": "code",
   "execution_count": 79,
   "metadata": {},
   "outputs": [],
   "source": [
    "x_train = x_train.reshape(60000, 28, 28, 1)\n",
    "x_train = x_train / 255.0\n",
    "x_test = x_test.reshape(10000, 28, 28, 1)\n",
    "x_test = x_test/255.0"
   ]
  },
  {
   "cell_type": "code",
   "execution_count": 80,
   "metadata": {},
   "outputs": [],
   "source": [
    "\n",
    "model = tf.keras.models.Sequential([\n",
    "  tf.keras.layers.Conv2D(32, (3,3), activation='relu', input_shape=(28, 28, 1)),\n",
    "  tf.keras.layers.MaxPooling2D(2, 2),\n",
    "  tf.keras.layers.Conv2D(32, (3,3), activation='relu'),\n",
    "  tf.keras.layers.MaxPooling2D(2,2),\n",
    "  tf.keras.layers.Flatten(),\n",
    "  tf.keras.layers.Dense(128, activation='relu'),\n",
    "  tf.keras.layers.Dense(10, activation='softmax')\n",
    "])\n",
    "\n"
   ]
  },
  {
   "cell_type": "code",
   "execution_count": 81,
   "metadata": {},
   "outputs": [],
   "source": [
    "model.compile(optimizer = 'adam', \n",
    "              loss = 'sparse_categorical_crossentropy', \n",
    "              metrics=['accuracy'])"
   ]
  },
  {
   "cell_type": "code",
   "execution_count": 82,
   "metadata": {},
   "outputs": [
    {
     "name": "stdout",
     "output_type": "stream",
     "text": [
      "Train on 60000 samples\n",
      "Epoch 1/50\n",
      "60000/60000 [==============================] - 7s 110us/sample - loss: 0.4703 - accuracy: 0.8301\n",
      "Epoch 2/50\n",
      "60000/60000 [==============================] - 6s 106us/sample - loss: 0.3193 - accuracy: 0.8839\n",
      "Epoch 3/50\n",
      "60000/60000 [==============================] - 6s 106us/sample - loss: 0.2727 - accuracy: 0.9008\n",
      "Epoch 4/50\n",
      "60000/60000 [==============================] - 6s 106us/sample - loss: 0.2401 - accuracy: 0.9113\n",
      "Epoch 5/50\n",
      "60000/60000 [==============================] - 6s 106us/sample - loss: 0.2178 - accuracy: 0.9197\n",
      "Epoch 6/50\n",
      "60000/60000 [==============================] - 6s 106us/sample - loss: 0.1965 - accuracy: 0.9269\n",
      "Epoch 7/50\n",
      "60000/60000 [==============================] - 6s 106us/sample - loss: 0.1785 - accuracy: 0.9334\n",
      "Epoch 8/50\n",
      "60000/60000 [==============================] - 6s 106us/sample - loss: 0.1652 - accuracy: 0.9388\n",
      "Epoch 9/50\n",
      "60000/60000 [==============================] - 6s 105us/sample - loss: 0.1492 - accuracy: 0.9438\n",
      "Epoch 10/50\n",
      "60000/60000 [==============================] - 6s 104us/sample - loss: 0.1355 - accuracy: 0.9494\n",
      "Epoch 11/50\n",
      "60000/60000 [==============================] - 6s 104us/sample - loss: 0.1236 - accuracy: 0.9543\n",
      "Epoch 12/50\n",
      "60000/60000 [==============================] - 6s 105us/sample - loss: 0.1135 - accuracy: 0.9571\n",
      "Epoch 13/50\n",
      "60000/60000 [==============================] - 6s 105us/sample - loss: 0.1029 - accuracy: 0.9605\n",
      "Epoch 14/50\n",
      "60000/60000 [==============================] - 6s 105us/sample - loss: 0.0934 - accuracy: 0.9656\n",
      "Epoch 15/50\n",
      "60000/60000 [==============================] - 6s 104us/sample - loss: 0.0853 - accuracy: 0.9679\n",
      "Epoch 16/50\n",
      "60000/60000 [==============================] - 6s 105us/sample - loss: 0.0772 - accuracy: 0.9711\n",
      "Epoch 17/50\n",
      "60000/60000 [==============================] - 6s 105us/sample - loss: 0.0704 - accuracy: 0.9735\n",
      "Epoch 18/50\n",
      "60000/60000 [==============================] - 6s 104us/sample - loss: 0.0656 - accuracy: 0.9760\n",
      "Epoch 19/50\n",
      "60000/60000 [==============================] - 6s 106us/sample - loss: 0.0590 - accuracy: 0.9779\n",
      "Epoch 20/50\n",
      "60000/60000 [==============================] - 6s 104us/sample - loss: 0.0538 - accuracy: 0.9799\n",
      "Epoch 21/50\n",
      "60000/60000 [==============================] - 6s 104us/sample - loss: 0.0512 - accuracy: 0.9807\n",
      "Epoch 22/50\n",
      "60000/60000 [==============================] - 6s 106us/sample - loss: 0.0482 - accuracy: 0.9824\n",
      "Epoch 23/50\n",
      "60000/60000 [==============================] - 6s 105us/sample - loss: 0.0451 - accuracy: 0.9833\n",
      "Epoch 24/50\n",
      "60000/60000 [==============================] - 6s 105us/sample - loss: 0.0403 - accuracy: 0.9849\n",
      "Epoch 25/50\n",
      "60000/60000 [==============================] - 6s 105us/sample - loss: 0.0390 - accuracy: 0.9857\n",
      "Epoch 26/50\n",
      "60000/60000 [==============================] - 6s 107us/sample - loss: 0.0354 - accuracy: 0.9868\n",
      "Epoch 27/50\n",
      "60000/60000 [==============================] - 6s 105us/sample - loss: 0.0361 - accuracy: 0.9866\n",
      "Epoch 28/50\n",
      "60000/60000 [==============================] - 6s 105us/sample - loss: 0.0316 - accuracy: 0.9887\n",
      "Epoch 29/50\n",
      "60000/60000 [==============================] - 6s 105us/sample - loss: 0.0350 - accuracy: 0.9880\n",
      "Epoch 30/50\n",
      "60000/60000 [==============================] - 6s 105us/sample - loss: 0.0293 - accuracy: 0.9890\n",
      "Epoch 31/50\n",
      "60000/60000 [==============================] - 6s 105us/sample - loss: 0.0296 - accuracy: 0.9887\n",
      "Epoch 32/50\n",
      "60000/60000 [==============================] - 6s 105us/sample - loss: 0.0266 - accuracy: 0.9904\n",
      "Epoch 33/50\n",
      "60000/60000 [==============================] - 6s 105us/sample - loss: 0.0292 - accuracy: 0.9897\n",
      "Epoch 34/50\n",
      "60000/60000 [==============================] - 6s 104us/sample - loss: 0.0266 - accuracy: 0.9908\n",
      "Epoch 35/50\n",
      "60000/60000 [==============================] - 6s 105us/sample - loss: 0.0233 - accuracy: 0.9918\n",
      "Epoch 36/50\n",
      "60000/60000 [==============================] - 6s 105us/sample - loss: 0.0312 - accuracy: 0.9887\n",
      "Epoch 37/50\n",
      "60000/60000 [==============================] - 6s 105us/sample - loss: 0.0251 - accuracy: 0.9915\n",
      "Epoch 38/50\n",
      "60000/60000 [==============================] - 6s 105us/sample - loss: 0.0218 - accuracy: 0.9914\n",
      "Epoch 39/50\n",
      "60000/60000 [==============================] - 6s 105us/sample - loss: 0.0260 - accuracy: 0.9905\n",
      "Epoch 40/50\n",
      "60000/60000 [==============================] - 6s 105us/sample - loss: 0.0229 - accuracy: 0.9919\n",
      "Epoch 41/50\n",
      "60000/60000 [==============================] - 6s 105us/sample - loss: 0.0229 - accuracy: 0.9921\n",
      "Epoch 42/50\n",
      "60000/60000 [==============================] - 6s 105us/sample - loss: 0.0206 - accuracy: 0.9927\n",
      "Epoch 43/50\n",
      "60000/60000 [==============================] - 6s 105us/sample - loss: 0.0265 - accuracy: 0.9911\n",
      "Epoch 44/50\n",
      "60000/60000 [==============================] - 6s 104us/sample - loss: 0.0206 - accuracy: 0.9931\n",
      "Epoch 45/50\n",
      "60000/60000 [==============================] - 6s 105us/sample - loss: 0.0203 - accuracy: 0.9929\n",
      "Epoch 46/50\n",
      "60000/60000 [==============================] - 6s 105us/sample - loss: 0.0185 - accuracy: 0.9935\n",
      "Epoch 47/50\n",
      "60000/60000 [==============================] - 6s 105us/sample - loss: 0.0241 - accuracy: 0.9922\n",
      "Epoch 48/50\n",
      "60000/60000 [==============================] - 6s 105us/sample - loss: 0.0201 - accuracy: 0.9936\n",
      "Epoch 49/50\n",
      "60000/60000 [==============================] - 6s 105us/sample - loss: 0.0184 - accuracy: 0.9940\n",
      "Epoch 50/50\n",
      "60000/60000 [==============================] - 6s 104us/sample - loss: 0.0181 - accuracy: 0.9936\n"
     ]
    }
   ],
   "source": [
    "\n",
    "history = model.fit(x_train, \n",
    "                    y_train,\n",
    "                   epochs = 50)"
   ]
  },
  {
   "cell_type": "code",
   "execution_count": 83,
   "metadata": {},
   "outputs": [
    {
     "data": {
      "text/plain": [
       "[0.7889364155704738, 0.9124]"
      ]
     },
     "execution_count": 83,
     "metadata": {},
     "output_type": "execute_result"
    }
   ],
   "source": [
    "model.evaluate(x_test, y_test, verbose=0)"
   ]
  },
  {
   "cell_type": "code",
   "execution_count": 85,
   "metadata": {},
   "outputs": [
    {
     "data": {
      "image/png": "[encoded data removed]",
      "text/plain": [
       "<Figure size 432x288 with 1 Axes>"
      ]
     },
     "metadata": {
      "needs_background": "light"
     },
     "output_type": "display_data"
    },
    {
     "data": {
      "image/png": "[encoded data removed]",
      "text/plain": [
       "<Figure size 432x288 with 1 Axes>"
      ]
     },
     "metadata": {
      "needs_background": "light"
     },
     "output_type": "display_data"
    }
   ],
   "source": [
    "import matplotlib.pyplot as plt\n",
    "acc = history.history['accuracy']\n",
    "loss =  history.history['loss']\n",
    "\n",
    "epochs = range(len(acc))\n",
    "\n",
    "plt.plot(epochs, acc, 'r', label='Training accuracy')\n",
    "plt.title('Training  accuracy')\n",
    "plt.legend()\n",
    "plt.figure()\n",
    "\n",
    "plt.plot(epochs, loss, 'r', label='Training Loss')\n",
    "plt.title('Training  loss')\n",
    "plt.legend()\n",
    "\n",
    "plt.show()"
   ]
  },
  {
   "cell_type": "code",
   "execution_count": 86,
   "metadata": {},
   "outputs": [
    {
     "name": "stdout",
     "output_type": "stream",
     "text": [
      "Train on 60000 samples\n",
      "Epoch 1/50\n",
      "60000/60000 [==============================] - 7s 122us/sample - loss: 0.4691 - accuracy: 0.8268\n",
      "Epoch 2/50\n",
      "60000/60000 [==============================] - 7s 113us/sample - loss: 0.3180 - accuracy: 0.8849\n",
      "Epoch 3/50\n",
      "60000/60000 [==============================] - 7s 113us/sample - loss: 0.2777 - accuracy: 0.8999\n",
      "Epoch 4/50\n",
      "60000/60000 [==============================] - 7s 113us/sample - loss: 0.2535 - accuracy: 0.9079\n",
      "Epoch 5/50\n",
      "60000/60000 [==============================] - 7s 113us/sample - loss: 0.2364 - accuracy: 0.9145\n",
      "Epoch 6/50\n",
      "60000/60000 [==============================] - 7s 113us/sample - loss: 0.2248 - accuracy: 0.9178\n",
      "Epoch 7/50\n",
      "60000/60000 [==============================] - 7s 113us/sample - loss: 0.2151 - accuracy: 0.9221\n",
      "Epoch 8/50\n",
      "60000/60000 [==============================] - 7s 113us/sample - loss: 0.2062 - accuracy: 0.9258\n",
      "Epoch 9/50\n",
      "60000/60000 [==============================] - 7s 114us/sample - loss: 0.2020 - accuracy: 0.9274\n",
      "Epoch 10/50\n",
      "60000/60000 [==============================] - 7s 113us/sample - loss: 0.1981 - accuracy: 0.9294\n",
      "Epoch 11/50\n",
      "60000/60000 [==============================] - 7s 113us/sample - loss: 0.1913 - accuracy: 0.9311\n",
      "Epoch 12/50\n",
      "60000/60000 [==============================] - 7s 114us/sample - loss: 0.1911 - accuracy: 0.9310\n",
      "Epoch 13/50\n",
      "60000/60000 [==============================] - 7s 114us/sample - loss: 0.1921 - accuracy: 0.9322\n",
      "Epoch 14/50\n",
      "60000/60000 [==============================] - 7s 112us/sample - loss: 0.1922 - accuracy: 0.9329\n",
      "Epoch 15/50\n",
      "60000/60000 [==============================] - 7s 113us/sample - loss: 0.1969 - accuracy: 0.9318\n",
      "Epoch 16/50\n",
      "60000/60000 [==============================] - 7s 112us/sample - loss: 0.1973 - accuracy: 0.9310\n",
      "Epoch 17/50\n",
      "60000/60000 [==============================] - 7s 112us/sample - loss: 0.2005 - accuracy: 0.9294\n",
      "Epoch 18/50\n",
      "60000/60000 [==============================] - 7s 112us/sample - loss: 0.2024 - accuracy: 0.9293\n",
      "Epoch 19/50\n",
      "60000/60000 [==============================] - 7s 112us/sample - loss: 0.2014 - accuracy: 0.9302\n",
      "Epoch 20/50\n",
      "60000/60000 [==============================] - 7s 112us/sample - loss: 0.2009 - accuracy: 0.9292\n",
      "Epoch 21/50\n",
      "60000/60000 [==============================] - 7s 112us/sample - loss: 0.2067 - accuracy: 0.9293\n",
      "Epoch 22/50\n",
      "60000/60000 [==============================] - 7s 112us/sample - loss: 0.2037 - accuracy: 0.9299\n",
      "Epoch 23/50\n",
      "60000/60000 [==============================] - 7s 112us/sample - loss: 0.2048 - accuracy: 0.9291\n",
      "Epoch 24/50\n",
      "60000/60000 [==============================] - 7s 112us/sample - loss: 0.2032 - accuracy: 0.9299\n",
      "Epoch 25/50\n",
      "60000/60000 [==============================] - 7s 112us/sample - loss: 0.2025 - accuracy: 0.9298\n",
      "Epoch 26/50\n",
      "60000/60000 [==============================] - 7s 113us/sample - loss: 0.2032 - accuracy: 0.9305\n",
      "Epoch 27/50\n",
      "60000/60000 [==============================] - 7s 113us/sample - loss: 0.2039 - accuracy: 0.9293\n",
      "Epoch 28/50\n",
      "60000/60000 [==============================] - 7s 112us/sample - loss: 0.2034 - accuracy: 0.9303\n",
      "Epoch 29/50\n",
      "60000/60000 [==============================] - 7s 112us/sample - loss: 0.2065 - accuracy: 0.9294\n",
      "Epoch 30/50\n",
      "60000/60000 [==============================] - 7s 112us/sample - loss: 0.2094 - accuracy: 0.9286\n",
      "Epoch 31/50\n",
      "60000/60000 [==============================] - 7s 113us/sample - loss: 0.2086 - accuracy: 0.9290\n",
      "Epoch 32/50\n",
      "60000/60000 [==============================] - 7s 112us/sample - loss: 0.2079 - accuracy: 0.9295\n",
      "Epoch 33/50\n",
      "60000/60000 [==============================] - 7s 112us/sample - loss: 0.2080 - accuracy: 0.9295\n",
      "Epoch 34/50\n",
      "60000/60000 [==============================] - 7s 112us/sample - loss: 0.2114 - accuracy: 0.9284\n",
      "Epoch 35/50\n",
      "60000/60000 [==============================] - 7s 113us/sample - loss: 0.2133 - accuracy: 0.9277\n",
      "Epoch 36/50\n",
      "60000/60000 [==============================] - 7s 112us/sample - loss: 0.2133 - accuracy: 0.9261\n",
      "Epoch 37/50\n",
      "60000/60000 [==============================] - 7s 112us/sample - loss: 0.2151 - accuracy: 0.9276\n",
      "Epoch 38/50\n",
      "60000/60000 [==============================] - 7s 112us/sample - loss: 0.2132 - accuracy: 0.9276\n",
      "Epoch 39/50\n",
      "60000/60000 [==============================] - 7s 112us/sample - loss: 0.2194 - accuracy: 0.9258\n",
      "Epoch 40/50\n",
      "60000/60000 [==============================] - 7s 113us/sample - loss: 0.2226 - accuracy: 0.9260\n",
      "Epoch 41/50\n",
      "60000/60000 [==============================] - 7s 112us/sample - loss: 0.2224 - accuracy: 0.9254\n",
      "Epoch 42/50\n",
      "60000/60000 [==============================] - 7s 112us/sample - loss: 0.2242 - accuracy: 0.9257\n",
      "Epoch 43/50\n",
      "60000/60000 [==============================] - 7s 112us/sample - loss: 0.2196 - accuracy: 0.9243\n",
      "Epoch 44/50\n",
      "60000/60000 [==============================] - 7s 112us/sample - loss: 0.2185 - accuracy: 0.9252\n",
      "Epoch 45/50\n",
      "60000/60000 [==============================] - 7s 113us/sample - loss: 0.2250 - accuracy: 0.9245\n",
      "Epoch 46/50\n",
      "60000/60000 [==============================] - 7s 112us/sample - loss: 0.2249 - accuracy: 0.9265\n",
      "Epoch 47/50\n",
      "60000/60000 [==============================] - 7s 112us/sample - loss: 0.2224 - accuracy: 0.9247\n",
      "Epoch 48/50\n",
      "60000/60000 [==============================] - 7s 112us/sample - loss: 0.2220 - accuracy: 0.9262\n",
      "Epoch 49/50\n",
      "60000/60000 [==============================] - 7s 113us/sample - loss: 0.2297 - accuracy: 0.9260\n",
      "Epoch 50/50\n",
      "60000/60000 [==============================] - 7s 111us/sample - loss: 0.2241 - accuracy: 0.9265\n"
     ]
    }
   ],
   "source": [
    "\n",
    "model1 = tf.keras.models.Sequential([\n",
    "  tf.keras.layers.Conv2D(32, (3,3), activation='relu', input_shape=(28, 28, 1)),\n",
    "  tf.keras.layers.MaxPooling2D(2, 2),\n",
    "  tf.keras.layers.Conv2D(32, (3,3), activation='relu'),\n",
    "  tf.keras.layers.MaxPooling2D(2,2),\n",
    "  tf.keras.layers.Flatten(),\n",
    "  tf.keras.layers.Dense(128, activation='relu'),\n",
    "  tf.keras.layers.Dense(10, activation='softmax')\n",
    "])\n",
    "\n",
    "model1.compile(optimizer = 'rmsprop', \n",
    "              loss = 'sparse_categorical_crossentropy', \n",
    "              metrics=['accuracy'])\n",
    "history = model1.fit(x_train, \n",
    "                    y_train,\n",
    "                   epochs = 50)"
   ]
  },
  {
   "cell_type": "code",
   "execution_count": 87,
   "metadata": {},
   "outputs": [
    {
     "name": "stdout",
     "output_type": "stream",
     "text": [
      "10000/10000 [==============================] - 1s 74us/sample - loss: 0.4269 - accuracy: 0.8888\n"
     ]
    },
    {
     "data": {
      "text/plain": [
       "[0.4269463393390179, 0.8888]"
      ]
     },
     "execution_count": 87,
     "metadata": {},
     "output_type": "execute_result"
    }
   ],
   "source": [
    "model1.evaluate(x_test, y_test, verbose=1)"
   ]
  },
  {
   "cell_type": "code",
   "execution_count": 88,
   "metadata": {},
   "outputs": [
    {
     "data": {
      "image/png": "[encoded data removed]",
      "text/plain": [
       "<Figure size 432x288 with 1 Axes>"
      ]
     },
     "metadata": {
      "needs_background": "light"
     },
     "output_type": "display_data"
    },
    {
     "data": {
      "image/png": "[encoded data removed]",
      "text/plain": [
       "<Figure size 432x288 with 1 Axes>"
      ]
     },
     "metadata": {
      "needs_background": "light"
     },
     "output_type": "display_data"
    }
   ],
   "source": [
    "acc = history.history['accuracy']\n",
    "loss =  history.history['loss']\n",
    "\n",
    "epochs = range(len(acc))\n",
    "plt.plot(epochs, acc, 'r', label='Training accuracy')\n",
    "plt.title('Training  accuracy')\n",
    "plt.legend()\n",
    "plt.figure()\n",
    "\n",
    "plt.plot(epochs, loss, 'r', label='Training Loss')\n",
    "plt.title('Training  loss')\n",
    "plt.legend()\n",
    "plt.show()"
   ]
  },
  {
   "cell_type": "code",
   "execution_count": 89,
   "metadata": {},
   "outputs": [
    {
     "name": "stdout",
     "output_type": "stream",
     "text": [
      "Train on 60000 samples\n",
      "Epoch 1/25\n",
      "60000/60000 [==============================] - 6s 108us/sample - loss: 0.4043 - accuracy: 0.8553\n",
      "Epoch 2/25\n",
      "60000/60000 [==============================] - 6s 103us/sample - loss: 0.2730 - accuracy: 0.9013\n",
      "Epoch 3/25\n",
      "60000/60000 [==============================] - 6s 103us/sample - loss: 0.2261 - accuracy: 0.9166\n",
      "Epoch 4/25\n",
      "60000/60000 [==============================] - 6s 103us/sample - loss: 0.1911 - accuracy: 0.9305\n",
      "Epoch 5/25\n",
      "60000/60000 [==============================] - 6s 104us/sample - loss: 0.1647 - accuracy: 0.9394\n",
      "Epoch 6/25\n",
      "60000/60000 [==============================] - 6s 104us/sample - loss: 0.1403 - accuracy: 0.9490\n",
      "Epoch 7/25\n",
      "60000/60000 [==============================] - 6s 103us/sample - loss: 0.1207 - accuracy: 0.9560\n",
      "Epoch 8/25\n",
      "60000/60000 [==============================] - 6s 104us/sample - loss: 0.1034 - accuracy: 0.9614\n",
      "Epoch 9/25\n",
      "60000/60000 [==============================] - 6s 103us/sample - loss: 0.0875 - accuracy: 0.9684\n",
      "Epoch 10/25\n",
      "60000/60000 [==============================] - 6s 104us/sample - loss: 0.0745 - accuracy: 0.9730\n",
      "Epoch 11/25\n",
      "60000/60000 [==============================] - 6s 103us/sample - loss: 0.0636 - accuracy: 0.9770\n",
      "Epoch 12/25\n",
      "60000/60000 [==============================] - 6s 104us/sample - loss: 0.0549 - accuracy: 0.9805\n",
      "Epoch 13/25\n",
      "60000/60000 [==============================] - 6s 103us/sample - loss: 0.0475 - accuracy: 0.9831\n",
      "Epoch 14/25\n",
      "60000/60000 [==============================] - 6s 103us/sample - loss: 0.0417 - accuracy: 0.9851\n",
      "Epoch 15/25\n",
      "60000/60000 [==============================] - 6s 103us/sample - loss: 0.0367 - accuracy: 0.9873\n",
      "Epoch 16/25\n",
      "60000/60000 [==============================] - 6s 104us/sample - loss: 0.0326 - accuracy: 0.9886\n",
      "Epoch 17/25\n",
      "60000/60000 [==============================] - 6s 103us/sample - loss: 0.0298 - accuracy: 0.9895\n",
      "Epoch 18/25\n",
      "60000/60000 [==============================] - 6s 103us/sample - loss: 0.0266 - accuracy: 0.9905\n",
      "Epoch 19/25\n",
      "60000/60000 [==============================] - 6s 104us/sample - loss: 0.0242 - accuracy: 0.9919\n",
      "Epoch 20/25\n",
      "60000/60000 [==============================] - 6s 103us/sample - loss: 0.0209 - accuracy: 0.9927\n",
      "Epoch 21/25\n",
      "60000/60000 [==============================] - 6s 103us/sample - loss: 0.0213 - accuracy: 0.9923\n",
      "Epoch 22/25\n",
      "60000/60000 [==============================] - 6s 103us/sample - loss: 0.0164 - accuracy: 0.9946\n",
      "Epoch 23/25\n",
      "60000/60000 [==============================] - 6s 103us/sample - loss: 0.0197 - accuracy: 0.9936\n",
      "Epoch 24/25\n",
      "60000/60000 [==============================] - 6s 103us/sample - loss: 0.0150 - accuracy: 0.9949\n",
      "Epoch 25/25\n",
      "60000/60000 [==============================] - 6s 103us/sample - loss: 0.0175 - accuracy: 0.9942\n"
     ]
    }
   ],
   "source": [
    "model3 = tf.keras.models.Sequential([\n",
    "  tf.keras.layers.Conv2D(32, (3,3), activation='relu', input_shape=(28, 28, 1)),\n",
    "  tf.keras.layers.MaxPooling2D(2, 2),\n",
    "  #tf.keras.layers.Conv2D(32, (3,3), activation='relu'),\n",
    "  #tf.keras.layers.MaxPooling2D(2,2),\n",
    "  tf.keras.layers.Flatten(),\n",
    "  tf.keras.layers.Dense(128, activation='relu'),\n",
    "  tf.keras.layers.Dense(10, activation='softmax')\n",
    "])\n",
    "model3.compile(optimizer = 'adam', \n",
    "              loss = 'sparse_categorical_crossentropy', \n",
    "              metrics=['accuracy'])\n",
    "history = model3.fit(x_train, \n",
    "                    y_train,\n",
    "                   epochs = 25)"
   ]
  },
  {
   "cell_type": "code",
   "execution_count": 90,
   "metadata": {},
   "outputs": [
    {
     "name": "stdout",
     "output_type": "stream",
     "text": [
      "10000/10000 [==============================] - 1s 69us/sample - loss: 0.5638 - accuracy: 0.9139\n"
     ]
    },
    {
     "data": {
      "text/plain": [
       "[0.5637884166061878, 0.9139]"
      ]
     },
     "execution_count": 90,
     "metadata": {},
     "output_type": "execute_result"
    }
   ],
   "source": [
    "model3.evaluate(x_test, y_test, verbose=1)"
   ]
  },
  {
   "cell_type": "code",
   "execution_count": 91,
   "metadata": {},
   "outputs": [
    {
     "data": {
      "image/png": "[encoded data removed]",
      "text/plain": [
       "<Figure size 432x288 with 1 Axes>"
      ]
     },
     "metadata": {
      "needs_background": "light"
     },
     "output_type": "display_data"
    },
    {
     "data": {
      "image/png": "[encoded data removed]",
      "text/plain": [
       "<Figure size 432x288 with 1 Axes>"
      ]
     },
     "metadata": {
      "needs_background": "light"
     },
     "output_type": "display_data"
    }
   ],
   "source": [
    "acc = history.history['accuracy']\n",
    "loss =  history.history['loss']\n",
    "\n",
    "epochs = range(len(acc))\n",
    "plt.plot(epochs, acc, 'r', label='Training accuracy')\n",
    "plt.title('Training  accuracy')\n",
    "plt.legend()\n",
    "plt.figure()\n",
    "\n",
    "plt.plot(epochs, loss, 'r', label='Training Loss')\n",
    "plt.title('Training  loss')\n",
    "plt.legend()\n",
    "plt.show()"
   ]
  },
  {
   "cell_type": "code",
   "execution_count": 92,
   "metadata": {},
   "outputs": [
    {
     "name": "stdout",
     "output_type": "stream",
     "text": [
      "Epoch 1/25\n",
      "60000/60000 [==============================] - 10s 161us/step - loss: 0.7418 - accuracy: 0.7014\n",
      "Epoch 2/25\n",
      "60000/60000 [==============================] - 9s 154us/step - loss: 0.3553 - accuracy: 0.8717\n",
      "Epoch 3/25\n",
      "60000/60000 [==============================] - 9s 155us/step - loss: 0.2864 - accuracy: 0.8947\n",
      "Epoch 4/25\n",
      "60000/60000 [==============================] - 9s 154us/step - loss: 0.2473 - accuracy: 0.9081\n",
      "Epoch 5/25\n",
      "60000/60000 [==============================] - 9s 155us/step - loss: 0.2206 - accuracy: 0.9177\n",
      "Epoch 6/25\n",
      "60000/60000 [==============================] - 9s 155us/step - loss: 0.1977 - accuracy: 0.9265\n",
      "Epoch 7/25\n",
      "60000/60000 [==============================] - 9s 155us/step - loss: 0.1800 - accuracy: 0.9330\n",
      "Epoch 8/25\n",
      "60000/60000 [==============================] - 9s 155us/step - loss: 0.1648 - accuracy: 0.9377\n",
      "Epoch 9/25\n",
      "60000/60000 [==============================] - 9s 155us/step - loss: 0.1500 - accuracy: 0.9429\n",
      "Epoch 10/25\n",
      "60000/60000 [==============================] - 9s 154us/step - loss: 0.1381 - accuracy: 0.9478\n",
      "Epoch 11/25\n",
      "60000/60000 [==============================] - 9s 155us/step - loss: 0.1281 - accuracy: 0.9510\n",
      "Epoch 12/25\n",
      "60000/60000 [==============================] - 9s 154us/step - loss: 0.1176 - accuracy: 0.9550\n",
      "Epoch 13/25\n",
      "60000/60000 [==============================] - 9s 156us/step - loss: 0.1083 - accuracy: 0.9590\n",
      "Epoch 14/25\n",
      "60000/60000 [==============================] - 9s 156us/step - loss: 0.1033 - accuracy: 0.9605\n",
      "Epoch 15/25\n",
      "60000/60000 [==============================] - 9s 157us/step - loss: 0.0939 - accuracy: 0.9650\n",
      "Epoch 16/25\n",
      "60000/60000 [==============================] - 9s 157us/step - loss: 0.0893 - accuracy: 0.9662\n",
      "Epoch 17/25\n",
      "60000/60000 [==============================] - 9s 157us/step - loss: 0.0823 - accuracy: 0.9691\n",
      "Epoch 18/25\n",
      "60000/60000 [==============================] - 9s 156us/step - loss: 0.0791 - accuracy: 0.9695\n",
      "Epoch 19/25\n",
      "60000/60000 [==============================] - 9s 157us/step - loss: 0.0762 - accuracy: 0.9711\n",
      "Epoch 20/25\n",
      "60000/60000 [==============================] - 9s 156us/step - loss: 0.0712 - accuracy: 0.9730\n",
      "Epoch 21/25\n",
      "60000/60000 [==============================] - 9s 157us/step - loss: 0.0668 - accuracy: 0.9744\n",
      "Epoch 22/25\n",
      "60000/60000 [==============================] - 9s 156us/step - loss: 0.0639 - accuracy: 0.9758\n",
      "Epoch 23/25\n",
      "60000/60000 [==============================] - 9s 156us/step - loss: 0.0610 - accuracy: 0.9768\n",
      "Epoch 24/25\n",
      "60000/60000 [==============================] - 9s 156us/step - loss: 0.0587 - accuracy: 0.9781\n",
      "Epoch 25/25\n",
      "60000/60000 [==============================] - 9s 156us/step - loss: 0.0560 - accuracy: 0.9794\n"
     ]
    }
   ],
   "source": [
    "from keras.layers import Conv2D, Input, LeakyReLU, Dense, Activation, Flatten, Dropout, MaxPool2D\n",
    "from keras import models\n",
    "model = models.Sequential()\n",
    "model.add(Conv2D(32,3, padding  =\"same\",input_shape=(28,28,1)))\n",
    "model.add(LeakyReLU())\n",
    "model.add(Conv2D(32,3, padding  =\"same\"))\n",
    "model.add(LeakyReLU())\n",
    "model.add(MaxPool2D(pool_size=(2,2)))\n",
    "model.add(Dropout(0.25))\n",
    "\n",
    "# Block 2\n",
    "model.add(Conv2D(64,3, padding  =\"same\"))\n",
    "model.add(LeakyReLU())\n",
    "model.add(Conv2D(64,3, padding  =\"same\"))\n",
    "model.add(LeakyReLU())\n",
    "model.add(MaxPool2D(pool_size=(2,2)))\n",
    "model.add(Dropout(0.25))\n",
    "\n",
    "model.add(Flatten())\n",
    "\n",
    "model.add(Dense(256,activation='relu'))\n",
    "model.add(Dense(32,activation='relu'))\n",
    "model.add(Dense(10,activation=\"sigmoid\"))\n",
    "\n",
    "\n",
    "model.compile(optimizer = 'rmsprop', \n",
    "              loss = 'sparse_categorical_crossentropy', \n",
    "              metrics=['accuracy'])\n",
    "history = model.fit(x_train, \n",
    "                    y_train, batch_size=256,\n",
    "                   epochs = 25)"
   ]
  },
  {
   "cell_type": "code",
   "execution_count": 93,
   "metadata": {},
   "outputs": [
    {
     "name": "stdout",
     "output_type": "stream",
     "text": [
      "10000/10000 [==============================] - 1s 106us/step\n"
     ]
    },
    {
     "data": {
      "text/plain": [
       "[0.3258482315454632, 0.9308000206947327]"
      ]
     },
     "execution_count": 93,
     "metadata": {},
     "output_type": "execute_result"
    }
   ],
   "source": [
    "model.evaluate(x_test, y_test, verbose=1)"
   ]
  },
  {
   "cell_type": "code",
   "execution_count": 94,
   "metadata": {},
   "outputs": [
    {
     "data": {
      "image/png": "[encoded data removed]",
      "text/plain": [
       "<Figure size 432x288 with 1 Axes>"
      ]
     },
     "metadata": {
      "needs_background": "light"
     },
     "output_type": "display_data"
    },
    {
     "data": {
      "image/png": "[encoded data removed]",
      "text/plain": [
       "<Figure size 432x288 with 1 Axes>"
      ]
     },
     "metadata": {
      "needs_background": "light"
     },
     "output_type": "display_data"
    }
   ],
   "source": [
    "acc = history.history['accuracy']\n",
    "loss =  history.history['loss']\n",
    "\n",
    "epochs = range(len(acc))\n",
    "plt.plot(epochs, acc, 'r', label='Training accuracy')\n",
    "plt.title('Training  accuracy')\n",
    "plt.legend()\n",
    "plt.figure()\n",
    "\n",
    "plt.plot(epochs, loss, 'r', label='Training Loss')\n",
    "plt.title('Training  loss')\n",
    "plt.legend()\n",
    "plt.show()"
   ]
  },
  {
   "cell_type": "code",
   "execution_count": null,
   "metadata": {},
   "outputs": [],
   "source": []
  }
 ],
 "metadata": {
  "kernel_info": {
   "name": "python3-azureml"
  },
  "kernelspec": {
   "display_name": "Python 3.6 - AzureML",
   "language": "python",
   "name": "python3-azureml"
  },
  "language_info": {
   "codemirror_mode": {
    "name": "ipython",
    "version": 3
   },
   "file_extension": ".py",
   "mimetype": "text/x-python",
   "name": "python",
   "nbconvert_exporter": "python",
   "pygments_lexer": "ipython3",
   "version": "3.6.9"
  },
  "nteract": {
   "version": "nteract-front-end@1.0.0"
  }
 },
 "nbformat": 4,
 "nbformat_minor": 2
}
