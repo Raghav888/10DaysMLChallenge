{
 "cells": [
  {
   "cell_type": "code",
   "execution_count": 1,
   "metadata": {},
   "outputs": [],
   "source": [
    "import pandas as pd\n",
    "import numpy as np\n",
    "import matplotlib.pyplot as plt"
   ]
  },
  {
   "cell_type": "code",
   "execution_count": 2,
   "metadata": {},
   "outputs": [],
   "source": [
    "india_data=pd.read_csv(\"hospital_beds_per_india_v1.csv\")\n",
    "usa_data=pd.read_csv(\"hospital_beds_USA_v1.csv\")"
   ]
  },
  {
   "cell_type": "code",
   "execution_count": 3,
   "metadata": {},
   "outputs": [
    {
     "data": {
      "text/html": [
       "<div>\n",
       "<style scoped>\n",
       "    .dataframe tbody tr th:only-of-type {\n",
       "        vertical-align: middle;\n",
       "    }\n",
       "\n",
       "    .dataframe tbody tr th {\n",
       "        vertical-align: top;\n",
       "    }\n",
       "\n",
       "    .dataframe thead th {\n",
       "        text-align: right;\n",
       "    }\n",
       "</style>\n",
       "<table border=\"1\" class=\"dataframe\">\n",
       "  <thead>\n",
       "    <tr style=\"text-align: right;\">\n",
       "      <th></th>\n",
       "      <th>country</th>\n",
       "      <th>state</th>\n",
       "      <th>county</th>\n",
       "      <th>lat</th>\n",
       "      <th>lng</th>\n",
       "      <th>type</th>\n",
       "      <th>measure</th>\n",
       "      <th>beds</th>\n",
       "      <th>population</th>\n",
       "      <th>year</th>\n",
       "      <th>source</th>\n",
       "      <th>source_url</th>\n",
       "    </tr>\n",
       "  </thead>\n",
       "  <tbody>\n",
       "    <tr>\n",
       "      <td>0</td>\n",
       "      <td>IN</td>\n",
       "      <td>AN</td>\n",
       "      <td>NaN</td>\n",
       "      <td>11.7401</td>\n",
       "      <td>92.6586</td>\n",
       "      <td>TOTAL</td>\n",
       "      <td>1000HAB</td>\n",
       "      <td>2.825081</td>\n",
       "      <td>380520</td>\n",
       "      <td>2016</td>\n",
       "      <td>nhp</td>\n",
       "      <td>http://www.cbhidghs.nic.in/showfile.php?lid=1147</td>\n",
       "    </tr>\n",
       "    <tr>\n",
       "      <td>1</td>\n",
       "      <td>IN</td>\n",
       "      <td>AP</td>\n",
       "      <td>NaN</td>\n",
       "      <td>15.9129</td>\n",
       "      <td>79.7400</td>\n",
       "      <td>TOTAL</td>\n",
       "      <td>1000HAB</td>\n",
       "      <td>0.436072</td>\n",
       "      <td>53060000</td>\n",
       "      <td>2017</td>\n",
       "      <td>nhp</td>\n",
       "      <td>http://www.cbhidghs.nic.in/showfile.php?lid=1147</td>\n",
       "    </tr>\n",
       "    <tr>\n",
       "      <td>2</td>\n",
       "      <td>IN</td>\n",
       "      <td>AR</td>\n",
       "      <td>NaN</td>\n",
       "      <td>28.2180</td>\n",
       "      <td>94.7278</td>\n",
       "      <td>TOTAL</td>\n",
       "      <td>1000HAB</td>\n",
       "      <td>1.427893</td>\n",
       "      <td>1683600</td>\n",
       "      <td>2018</td>\n",
       "      <td>nhp</td>\n",
       "      <td>http://www.cbhidghs.nic.in/showfile.php?lid=1147</td>\n",
       "    </tr>\n",
       "    <tr>\n",
       "      <td>3</td>\n",
       "      <td>IN</td>\n",
       "      <td>AS</td>\n",
       "      <td>NaN</td>\n",
       "      <td>26.2006</td>\n",
       "      <td>92.9376</td>\n",
       "      <td>TOTAL</td>\n",
       "      <td>1000HAB</td>\n",
       "      <td>0.497753</td>\n",
       "      <td>34438756</td>\n",
       "      <td>2017</td>\n",
       "      <td>nhp</td>\n",
       "      <td>http://www.cbhidghs.nic.in/showfile.php?lid=1147</td>\n",
       "    </tr>\n",
       "    <tr>\n",
       "      <td>4</td>\n",
       "      <td>IN</td>\n",
       "      <td>BR</td>\n",
       "      <td>NaN</td>\n",
       "      <td>25.0961</td>\n",
       "      <td>85.3131</td>\n",
       "      <td>TOTAL</td>\n",
       "      <td>1000HAB</td>\n",
       "      <td>0.094838</td>\n",
       "      <td>122988691</td>\n",
       "      <td>2018</td>\n",
       "      <td>nhp</td>\n",
       "      <td>http://www.cbhidghs.nic.in/showfile.php?lid=1147</td>\n",
       "    </tr>\n",
       "  </tbody>\n",
       "</table>\n",
       "</div>"
      ],
      "text/plain": [
       "  country state  county      lat      lng   type  measure      beds  \\\n",
       "0      IN    AN     NaN  11.7401  92.6586  TOTAL  1000HAB  2.825081   \n",
       "1      IN    AP     NaN  15.9129  79.7400  TOTAL  1000HAB  0.436072   \n",
       "2      IN    AR     NaN  28.2180  94.7278  TOTAL  1000HAB  1.427893   \n",
       "3      IN    AS     NaN  26.2006  92.9376  TOTAL  1000HAB  0.497753   \n",
       "4      IN    BR     NaN  25.0961  85.3131  TOTAL  1000HAB  0.094838   \n",
       "\n",
       "   population  year source                                        source_url  \n",
       "0      380520  2016    nhp  http://www.cbhidghs.nic.in/showfile.php?lid=1147  \n",
       "1    53060000  2017    nhp  http://www.cbhidghs.nic.in/showfile.php?lid=1147  \n",
       "2     1683600  2018    nhp  http://www.cbhidghs.nic.in/showfile.php?lid=1147  \n",
       "3    34438756  2017    nhp  http://www.cbhidghs.nic.in/showfile.php?lid=1147  \n",
       "4   122988691  2018    nhp  http://www.cbhidghs.nic.in/showfile.php?lid=1147  "
      ]
     },
     "execution_count": 3,
     "metadata": {},
     "output_type": "execute_result"
    }
   ],
   "source": [
    "india_data.head()"
   ]
  },
  {
   "cell_type": "code",
   "execution_count": 4,
   "metadata": {},
   "outputs": [
    {
     "data": {
      "text/html": [
       "<div>\n",
       "<style scoped>\n",
       "    .dataframe tbody tr th:only-of-type {\n",
       "        vertical-align: middle;\n",
       "    }\n",
       "\n",
       "    .dataframe tbody tr th {\n",
       "        vertical-align: top;\n",
       "    }\n",
       "\n",
       "    .dataframe thead th {\n",
       "        text-align: right;\n",
       "    }\n",
       "</style>\n",
       "<table border=\"1\" class=\"dataframe\">\n",
       "  <thead>\n",
       "    <tr style=\"text-align: right;\">\n",
       "      <th></th>\n",
       "      <th>country</th>\n",
       "      <th>state</th>\n",
       "      <th>county</th>\n",
       "      <th>lat</th>\n",
       "      <th>lng</th>\n",
       "      <th>type</th>\n",
       "      <th>measure</th>\n",
       "      <th>beds</th>\n",
       "      <th>population</th>\n",
       "      <th>year</th>\n",
       "      <th>source</th>\n",
       "      <th>source_url</th>\n",
       "    </tr>\n",
       "  </thead>\n",
       "  <tbody>\n",
       "    <tr>\n",
       "      <td>0</td>\n",
       "      <td>US</td>\n",
       "      <td>AK</td>\n",
       "      <td>aleutians east</td>\n",
       "      <td>63.588753</td>\n",
       "      <td>-154.493062</td>\n",
       "      <td>ICU</td>\n",
       "      <td>1000HAB</td>\n",
       "      <td>0.000000</td>\n",
       "      <td>3338</td>\n",
       "      <td>2019</td>\n",
       "      <td>khn</td>\n",
       "      <td>https://khn.org/news/as-coronavirus-spreads-wi...</td>\n",
       "    </tr>\n",
       "    <tr>\n",
       "      <td>1</td>\n",
       "      <td>US</td>\n",
       "      <td>AK</td>\n",
       "      <td>aleutians west</td>\n",
       "      <td>63.588753</td>\n",
       "      <td>-154.493062</td>\n",
       "      <td>ICU</td>\n",
       "      <td>1000HAB</td>\n",
       "      <td>0.000000</td>\n",
       "      <td>5784</td>\n",
       "      <td>2019</td>\n",
       "      <td>khn</td>\n",
       "      <td>https://khn.org/news/as-coronavirus-spreads-wi...</td>\n",
       "    </tr>\n",
       "    <tr>\n",
       "      <td>2</td>\n",
       "      <td>US</td>\n",
       "      <td>AK</td>\n",
       "      <td>anchorage</td>\n",
       "      <td>63.588753</td>\n",
       "      <td>-154.493062</td>\n",
       "      <td>ACUTE</td>\n",
       "      <td>1000HAB</td>\n",
       "      <td>2.182916</td>\n",
       "      <td>298225</td>\n",
       "      <td>2018</td>\n",
       "      <td>arcgis</td>\n",
       "      <td>https://services1.arcgis.com/Hp6G80Pky0om7QvQ/...</td>\n",
       "    </tr>\n",
       "    <tr>\n",
       "      <td>3</td>\n",
       "      <td>US</td>\n",
       "      <td>AK</td>\n",
       "      <td>anchorage</td>\n",
       "      <td>63.588753</td>\n",
       "      <td>-154.493062</td>\n",
       "      <td>ICU</td>\n",
       "      <td>1000HAB</td>\n",
       "      <td>0.244782</td>\n",
       "      <td>298225</td>\n",
       "      <td>2019</td>\n",
       "      <td>khn</td>\n",
       "      <td>https://khn.org/news/as-coronavirus-spreads-wi...</td>\n",
       "    </tr>\n",
       "    <tr>\n",
       "      <td>4</td>\n",
       "      <td>US</td>\n",
       "      <td>AK</td>\n",
       "      <td>anchorage</td>\n",
       "      <td>63.588753</td>\n",
       "      <td>-154.493062</td>\n",
       "      <td>OTHER</td>\n",
       "      <td>1000HAB</td>\n",
       "      <td>0.191131</td>\n",
       "      <td>298225</td>\n",
       "      <td>2019</td>\n",
       "      <td>arcgis</td>\n",
       "      <td>https://services1.arcgis.com/Hp6G80Pky0om7QvQ/...</td>\n",
       "    </tr>\n",
       "  </tbody>\n",
       "</table>\n",
       "</div>"
      ],
      "text/plain": [
       "  country state          county        lat         lng   type  measure  \\\n",
       "0      US    AK  aleutians east  63.588753 -154.493062    ICU  1000HAB   \n",
       "1      US    AK  aleutians west  63.588753 -154.493062    ICU  1000HAB   \n",
       "2      US    AK       anchorage  63.588753 -154.493062  ACUTE  1000HAB   \n",
       "3      US    AK       anchorage  63.588753 -154.493062    ICU  1000HAB   \n",
       "4      US    AK       anchorage  63.588753 -154.493062  OTHER  1000HAB   \n",
       "\n",
       "       beds  population  year  source  \\\n",
       "0  0.000000        3338  2019     khn   \n",
       "1  0.000000        5784  2019     khn   \n",
       "2  2.182916      298225  2018  arcgis   \n",
       "3  0.244782      298225  2019     khn   \n",
       "4  0.191131      298225  2019  arcgis   \n",
       "\n",
       "                                          source_url  \n",
       "0  https://khn.org/news/as-coronavirus-spreads-wi...  \n",
       "1  https://khn.org/news/as-coronavirus-spreads-wi...  \n",
       "2  https://services1.arcgis.com/Hp6G80Pky0om7QvQ/...  \n",
       "3  https://khn.org/news/as-coronavirus-spreads-wi...  \n",
       "4  https://services1.arcgis.com/Hp6G80Pky0om7QvQ/...  "
      ]
     },
     "execution_count": 4,
     "metadata": {},
     "output_type": "execute_result"
    }
   ],
   "source": [
    "usa_data.head()"
   ]
  },
  {
   "cell_type": "code",
   "execution_count": 5,
   "metadata": {},
   "outputs": [
    {
     "data": {
      "text/html": [
       "<div>\n",
       "<style scoped>\n",
       "    .dataframe tbody tr th:only-of-type {\n",
       "        vertical-align: middle;\n",
       "    }\n",
       "\n",
       "    .dataframe tbody tr th {\n",
       "        vertical-align: top;\n",
       "    }\n",
       "\n",
       "    .dataframe thead th {\n",
       "        text-align: right;\n",
       "    }\n",
       "</style>\n",
       "<table border=\"1\" class=\"dataframe\">\n",
       "  <thead>\n",
       "    <tr style=\"text-align: right;\">\n",
       "      <th></th>\n",
       "      <th>county</th>\n",
       "      <th>lat</th>\n",
       "      <th>lng</th>\n",
       "      <th>beds</th>\n",
       "      <th>population</th>\n",
       "      <th>year</th>\n",
       "    </tr>\n",
       "  </thead>\n",
       "  <tbody>\n",
       "    <tr>\n",
       "      <td>count</td>\n",
       "      <td>0.0</td>\n",
       "      <td>37.000000</td>\n",
       "      <td>37.000000</td>\n",
       "      <td>37.000000</td>\n",
       "      <td>3.700000e+01</td>\n",
       "      <td>37.000000</td>\n",
       "    </tr>\n",
       "    <tr>\n",
       "      <td>mean</td>\n",
       "      <td>NaN</td>\n",
       "      <td>22.500439</td>\n",
       "      <td>81.595037</td>\n",
       "      <td>27.304251</td>\n",
       "      <td>7.063516e+07</td>\n",
       "      <td>2016.756757</td>\n",
       "    </tr>\n",
       "    <tr>\n",
       "      <td>std</td>\n",
       "      <td>NaN</td>\n",
       "      <td>6.490228</td>\n",
       "      <td>7.347561</td>\n",
       "      <td>159.577108</td>\n",
       "      <td>2.216202e+08</td>\n",
       "      <td>1.211184</td>\n",
       "    </tr>\n",
       "    <tr>\n",
       "      <td>min</td>\n",
       "      <td>NaN</td>\n",
       "      <td>8.295441</td>\n",
       "      <td>71.192400</td>\n",
       "      <td>0.094838</td>\n",
       "      <td>7.978800e+04</td>\n",
       "      <td>2014.000000</td>\n",
       "    </tr>\n",
       "    <tr>\n",
       "      <td>25%</td>\n",
       "      <td>NaN</td>\n",
       "      <td>19.751500</td>\n",
       "      <td>76.085600</td>\n",
       "      <td>0.436072</td>\n",
       "      <td>1.510000e+06</td>\n",
       "      <td>2016.000000</td>\n",
       "    </tr>\n",
       "    <tr>\n",
       "      <td>50%</td>\n",
       "      <td>NaN</td>\n",
       "      <td>23.164500</td>\n",
       "      <td>79.019300</td>\n",
       "      <td>0.815190</td>\n",
       "      <td>2.630000e+07</td>\n",
       "      <td>2017.000000</td>\n",
       "    </tr>\n",
       "    <tr>\n",
       "      <td>75%</td>\n",
       "      <td>NaN</td>\n",
       "      <td>27.023800</td>\n",
       "      <td>87.855000</td>\n",
       "      <td>1.427893</td>\n",
       "      <td>5.306000e+07</td>\n",
       "      <td>2018.000000</td>\n",
       "    </tr>\n",
       "    <tr>\n",
       "      <td>max</td>\n",
       "      <td>NaN</td>\n",
       "      <td>33.778200</td>\n",
       "      <td>94.727800</td>\n",
       "      <td>971.725071</td>\n",
       "      <td>1.353000e+09</td>\n",
       "      <td>2018.000000</td>\n",
       "    </tr>\n",
       "  </tbody>\n",
       "</table>\n",
       "</div>"
      ],
      "text/plain": [
       "       county        lat        lng        beds    population         year\n",
       "count     0.0  37.000000  37.000000   37.000000  3.700000e+01    37.000000\n",
       "mean      NaN  22.500439  81.595037   27.304251  7.063516e+07  2016.756757\n",
       "std       NaN   6.490228   7.347561  159.577108  2.216202e+08     1.211184\n",
       "min       NaN   8.295441  71.192400    0.094838  7.978800e+04  2014.000000\n",
       "25%       NaN  19.751500  76.085600    0.436072  1.510000e+06  2016.000000\n",
       "50%       NaN  23.164500  79.019300    0.815190  2.630000e+07  2017.000000\n",
       "75%       NaN  27.023800  87.855000    1.427893  5.306000e+07  2018.000000\n",
       "max       NaN  33.778200  94.727800  971.725071  1.353000e+09  2018.000000"
      ]
     },
     "execution_count": 5,
     "metadata": {},
     "output_type": "execute_result"
    }
   ],
   "source": [
    "india_data.describe()"
   ]
  },
  {
   "cell_type": "code",
   "execution_count": 6,
   "metadata": {},
   "outputs": [
    {
     "data": {
      "text/html": [
       "<div>\n",
       "<style scoped>\n",
       "    .dataframe tbody tr th:only-of-type {\n",
       "        vertical-align: middle;\n",
       "    }\n",
       "\n",
       "    .dataframe tbody tr th {\n",
       "        vertical-align: top;\n",
       "    }\n",
       "\n",
       "    .dataframe thead th {\n",
       "        text-align: right;\n",
       "    }\n",
       "</style>\n",
       "<table border=\"1\" class=\"dataframe\">\n",
       "  <thead>\n",
       "    <tr style=\"text-align: right;\">\n",
       "      <th></th>\n",
       "      <th>lat</th>\n",
       "      <th>lng</th>\n",
       "      <th>beds</th>\n",
       "      <th>population</th>\n",
       "      <th>year</th>\n",
       "    </tr>\n",
       "  </thead>\n",
       "  <tbody>\n",
       "    <tr>\n",
       "      <td>count</td>\n",
       "      <td>5713.000000</td>\n",
       "      <td>5713.000000</td>\n",
       "      <td>5713.000000</td>\n",
       "      <td>5.713000e+03</td>\n",
       "      <td>5713.000000</td>\n",
       "    </tr>\n",
       "    <tr>\n",
       "      <td>mean</td>\n",
       "      <td>38.038590</td>\n",
       "      <td>-91.593572</td>\n",
       "      <td>1.647644</td>\n",
       "      <td>1.716983e+05</td>\n",
       "      <td>2018.280763</td>\n",
       "    </tr>\n",
       "    <tr>\n",
       "      <td>std</td>\n",
       "      <td>5.362105</td>\n",
       "      <td>13.230439</td>\n",
       "      <td>3.101818</td>\n",
       "      <td>4.624376e+05</td>\n",
       "      <td>0.907452</td>\n",
       "    </tr>\n",
       "    <tr>\n",
       "      <td>min</td>\n",
       "      <td>19.898682</td>\n",
       "      <td>-155.665857</td>\n",
       "      <td>0.000000</td>\n",
       "      <td>7.400000e+01</td>\n",
       "      <td>2012.000000</td>\n",
       "    </tr>\n",
       "    <tr>\n",
       "      <td>25%</td>\n",
       "      <td>33.836081</td>\n",
       "      <td>-99.901813</td>\n",
       "      <td>0.141784</td>\n",
       "      <td>1.708800e+04</td>\n",
       "      <td>2018.000000</td>\n",
       "    </tr>\n",
       "    <tr>\n",
       "      <td>50%</td>\n",
       "      <td>37.964253</td>\n",
       "      <td>-89.398528</td>\n",
       "      <td>0.616614</td>\n",
       "      <td>4.282600e+04</td>\n",
       "      <td>2018.000000</td>\n",
       "    </tr>\n",
       "    <tr>\n",
       "      <td>75%</td>\n",
       "      <td>41.492537</td>\n",
       "      <td>-82.907123</td>\n",
       "      <td>2.225851</td>\n",
       "      <td>1.370960e+05</td>\n",
       "      <td>2019.000000</td>\n",
       "    </tr>\n",
       "    <tr>\n",
       "      <td>max</td>\n",
       "      <td>63.588753</td>\n",
       "      <td>-69.445469</td>\n",
       "      <td>90.466352</td>\n",
       "      <td>1.010572e+07</td>\n",
       "      <td>2020.000000</td>\n",
       "    </tr>\n",
       "  </tbody>\n",
       "</table>\n",
       "</div>"
      ],
      "text/plain": [
       "               lat          lng         beds    population         year\n",
       "count  5713.000000  5713.000000  5713.000000  5.713000e+03  5713.000000\n",
       "mean     38.038590   -91.593572     1.647644  1.716983e+05  2018.280763\n",
       "std       5.362105    13.230439     3.101818  4.624376e+05     0.907452\n",
       "min      19.898682  -155.665857     0.000000  7.400000e+01  2012.000000\n",
       "25%      33.836081   -99.901813     0.141784  1.708800e+04  2018.000000\n",
       "50%      37.964253   -89.398528     0.616614  4.282600e+04  2018.000000\n",
       "75%      41.492537   -82.907123     2.225851  1.370960e+05  2019.000000\n",
       "max      63.588753   -69.445469    90.466352  1.010572e+07  2020.000000"
      ]
     },
     "execution_count": 6,
     "metadata": {},
     "output_type": "execute_result"
    }
   ],
   "source": [
    "usa_data.describe()"
   ]
  },
  {
   "cell_type": "code",
   "execution_count": 7,
   "metadata": {},
   "outputs": [
    {
     "name": "stdout",
     "output_type": "stream",
     "text": [
      "<class 'pandas.core.frame.DataFrame'>\n",
      "RangeIndex: 37 entries, 0 to 36\n",
      "Data columns (total 12 columns):\n",
      "country       37 non-null object\n",
      "state         37 non-null object\n",
      "county        0 non-null float64\n",
      "lat           37 non-null float64\n",
      "lng           37 non-null float64\n",
      "type          37 non-null object\n",
      "measure       37 non-null object\n",
      "beds          37 non-null float64\n",
      "population    37 non-null int64\n",
      "year          37 non-null int64\n",
      "source        37 non-null object\n",
      "source_url    37 non-null object\n",
      "dtypes: float64(4), int64(2), object(6)\n",
      "memory usage: 3.6+ KB\n"
     ]
    }
   ],
   "source": [
    "india_data.info()"
   ]
  },
  {
   "cell_type": "code",
   "execution_count": 8,
   "metadata": {},
   "outputs": [
    {
     "name": "stdout",
     "output_type": "stream",
     "text": [
      "<class 'pandas.core.frame.DataFrame'>\n",
      "RangeIndex: 5713 entries, 0 to 5712\n",
      "Data columns (total 12 columns):\n",
      "country       5713 non-null object\n",
      "state         5713 non-null object\n",
      "county        5713 non-null object\n",
      "lat           5713 non-null float64\n",
      "lng           5713 non-null float64\n",
      "type          5713 non-null object\n",
      "measure       5713 non-null object\n",
      "beds          5713 non-null float64\n",
      "population    5713 non-null int64\n",
      "year          5713 non-null int64\n",
      "source        5713 non-null object\n",
      "source_url    5713 non-null object\n",
      "dtypes: float64(3), int64(2), object(7)\n",
      "memory usage: 535.7+ KB\n"
     ]
    }
   ],
   "source": [
    "usa_data.info()"
   ]
  },
  {
   "cell_type": "code",
   "execution_count": 9,
   "metadata": {},
   "outputs": [
    {
     "name": "stdout",
     "output_type": "stream",
     "text": [
      "['TOTAL']\n",
      "['1000HAB']\n",
      "[2016 2017 2018 2015 2014]\n"
     ]
    }
   ],
   "source": [
    "print(india_data[\"type\"].unique())\n",
    "print(india_data[\"measure\"].unique())\n",
    "print(india_data[\"year\"].unique())"
   ]
  },
  {
   "cell_type": "code",
   "execution_count": 10,
   "metadata": {},
   "outputs": [
    {
     "name": "stdout",
     "output_type": "stream",
     "text": [
      "['ICU' 'ACUTE' 'OTHER' 'PSYCHIATRIC']\n",
      "['1000HAB']\n",
      "[2019 2018 2016 2017 2012 2015 2013 2020 2014]\n"
     ]
    }
   ],
   "source": [
    "print(usa_data[\"type\"].unique())\n",
    "print(usa_data[\"measure\"].unique())\n",
    "print(usa_data[\"year\"].unique())"
   ]
  },
  {
   "cell_type": "code",
   "execution_count": 11,
   "metadata": {},
   "outputs": [
    {
     "data": {
      "text/plain": [
       "Index(['country', 'state', 'county', 'lat', 'lng', 'type', 'measure', 'beds',\n",
       "       'population', 'year', 'source', 'source_url'],\n",
       "      dtype='object')"
      ]
     },
     "execution_count": 11,
     "metadata": {},
     "output_type": "execute_result"
    }
   ],
   "source": [
    "india_data.columns"
   ]
  },
  {
   "cell_type": "code",
   "execution_count": 12,
   "metadata": {},
   "outputs": [
    {
     "data": {
      "text/plain": [
       "Index(['state', 'beds', 'population', 'year'], dtype='object')"
      ]
     },
     "execution_count": 12,
     "metadata": {},
     "output_type": "execute_result"
    }
   ],
   "source": [
    "india_data=india_data.drop([\"country\",\"county\",\"lat\",\"lng\",\"measure\",\"source\",\"source_url\",\"type\"],axis=1)\n",
    "india_data.columns"
   ]
  },
  {
   "cell_type": "code",
   "execution_count": 13,
   "metadata": {},
   "outputs": [
    {
     "data": {
      "text/plain": [
       "Index(['state', 'county', 'type', 'beds', 'population', 'year'], dtype='object')"
      ]
     },
     "execution_count": 13,
     "metadata": {},
     "output_type": "execute_result"
    }
   ],
   "source": [
    "usa_data=usa_data.drop([\"country\",\"measure\",\"lat\",\"lng\",\"source\",\"source_url\"],axis=1)\n",
    "usa_data.columns"
   ]
  },
  {
   "cell_type": "code",
   "execution_count": 14,
   "metadata": {},
   "outputs": [
    {
     "data": {
      "text/html": [
       "<div>\n",
       "<style scoped>\n",
       "    .dataframe tbody tr th:only-of-type {\n",
       "        vertical-align: middle;\n",
       "    }\n",
       "\n",
       "    .dataframe tbody tr th {\n",
       "        vertical-align: top;\n",
       "    }\n",
       "\n",
       "    .dataframe thead th {\n",
       "        text-align: right;\n",
       "    }\n",
       "</style>\n",
       "<table border=\"1\" class=\"dataframe\">\n",
       "  <thead>\n",
       "    <tr style=\"text-align: right;\">\n",
       "      <th></th>\n",
       "      <th>state</th>\n",
       "      <th>county</th>\n",
       "      <th>type</th>\n",
       "      <th>beds</th>\n",
       "      <th>population</th>\n",
       "      <th>year</th>\n",
       "    </tr>\n",
       "  </thead>\n",
       "  <tbody>\n",
       "    <tr>\n",
       "      <td>0</td>\n",
       "      <td>AK</td>\n",
       "      <td>aleutians east</td>\n",
       "      <td>ICU</td>\n",
       "      <td>0.000000</td>\n",
       "      <td>3338</td>\n",
       "      <td>2019</td>\n",
       "    </tr>\n",
       "    <tr>\n",
       "      <td>1</td>\n",
       "      <td>AK</td>\n",
       "      <td>aleutians west</td>\n",
       "      <td>ICU</td>\n",
       "      <td>0.000000</td>\n",
       "      <td>5784</td>\n",
       "      <td>2019</td>\n",
       "    </tr>\n",
       "    <tr>\n",
       "      <td>2</td>\n",
       "      <td>AK</td>\n",
       "      <td>anchorage</td>\n",
       "      <td>ACUTE</td>\n",
       "      <td>2.182916</td>\n",
       "      <td>298225</td>\n",
       "      <td>2018</td>\n",
       "    </tr>\n",
       "    <tr>\n",
       "      <td>3</td>\n",
       "      <td>AK</td>\n",
       "      <td>anchorage</td>\n",
       "      <td>ICU</td>\n",
       "      <td>0.244782</td>\n",
       "      <td>298225</td>\n",
       "      <td>2019</td>\n",
       "    </tr>\n",
       "    <tr>\n",
       "      <td>4</td>\n",
       "      <td>AK</td>\n",
       "      <td>anchorage</td>\n",
       "      <td>OTHER</td>\n",
       "      <td>0.191131</td>\n",
       "      <td>298225</td>\n",
       "      <td>2019</td>\n",
       "    </tr>\n",
       "  </tbody>\n",
       "</table>\n",
       "</div>"
      ],
      "text/plain": [
       "  state          county   type      beds  population  year\n",
       "0    AK  aleutians east    ICU  0.000000        3338  2019\n",
       "1    AK  aleutians west    ICU  0.000000        5784  2019\n",
       "2    AK       anchorage  ACUTE  2.182916      298225  2018\n",
       "3    AK       anchorage    ICU  0.244782      298225  2019\n",
       "4    AK       anchorage  OTHER  0.191131      298225  2019"
      ]
     },
     "execution_count": 14,
     "metadata": {},
     "output_type": "execute_result"
    }
   ],
   "source": [
    "usa_data.head()"
   ]
  },
  {
   "cell_type": "code",
   "execution_count": 15,
   "metadata": {},
   "outputs": [
    {
     "data": {
      "text/html": [
       "<div>\n",
       "<style scoped>\n",
       "    .dataframe tbody tr th:only-of-type {\n",
       "        vertical-align: middle;\n",
       "    }\n",
       "\n",
       "    .dataframe tbody tr th {\n",
       "        vertical-align: top;\n",
       "    }\n",
       "\n",
       "    .dataframe thead th {\n",
       "        text-align: right;\n",
       "    }\n",
       "</style>\n",
       "<table border=\"1\" class=\"dataframe\">\n",
       "  <thead>\n",
       "    <tr style=\"text-align: right;\">\n",
       "      <th></th>\n",
       "      <th>state</th>\n",
       "      <th>beds</th>\n",
       "      <th>population</th>\n",
       "      <th>year</th>\n",
       "    </tr>\n",
       "  </thead>\n",
       "  <tbody>\n",
       "    <tr>\n",
       "      <td>0</td>\n",
       "      <td>AN</td>\n",
       "      <td>2.825081</td>\n",
       "      <td>380520</td>\n",
       "      <td>2016</td>\n",
       "    </tr>\n",
       "    <tr>\n",
       "      <td>1</td>\n",
       "      <td>AP</td>\n",
       "      <td>0.436072</td>\n",
       "      <td>53060000</td>\n",
       "      <td>2017</td>\n",
       "    </tr>\n",
       "    <tr>\n",
       "      <td>2</td>\n",
       "      <td>AR</td>\n",
       "      <td>1.427893</td>\n",
       "      <td>1683600</td>\n",
       "      <td>2018</td>\n",
       "    </tr>\n",
       "    <tr>\n",
       "      <td>3</td>\n",
       "      <td>AS</td>\n",
       "      <td>0.497753</td>\n",
       "      <td>34438756</td>\n",
       "      <td>2017</td>\n",
       "    </tr>\n",
       "    <tr>\n",
       "      <td>4</td>\n",
       "      <td>BR</td>\n",
       "      <td>0.094838</td>\n",
       "      <td>122988691</td>\n",
       "      <td>2018</td>\n",
       "    </tr>\n",
       "  </tbody>\n",
       "</table>\n",
       "</div>"
      ],
      "text/plain": [
       "  state      beds  population  year\n",
       "0    AN  2.825081      380520  2016\n",
       "1    AP  0.436072    53060000  2017\n",
       "2    AR  1.427893     1683600  2018\n",
       "3    AS  0.497753    34438756  2017\n",
       "4    BR  0.094838   122988691  2018"
      ]
     },
     "execution_count": 15,
     "metadata": {},
     "output_type": "execute_result"
    }
   ],
   "source": [
    "india_data.head()"
   ]
  },
  {
   "cell_type": "code",
   "execution_count": 16,
   "metadata": {},
   "outputs": [
    {
     "name": "stdout",
     "output_type": "stream",
     "text": [
      "state         0\n",
      "beds          0\n",
      "population    0\n",
      "year          0\n",
      "dtype: int64\n"
     ]
    }
   ],
   "source": [
    "print(india_data.isnull().sum())"
   ]
  },
  {
   "cell_type": "code",
   "execution_count": 17,
   "metadata": {},
   "outputs": [
    {
     "name": "stdout",
     "output_type": "stream",
     "text": [
      "state         0\n",
      "county        0\n",
      "type          0\n",
      "beds          0\n",
      "population    0\n",
      "year          0\n",
      "dtype: int64\n"
     ]
    }
   ],
   "source": [
    "print(usa_data.isnull().sum())"
   ]
  },
  {
   "cell_type": "code",
   "execution_count": 18,
   "metadata": {},
   "outputs": [],
   "source": [
    "india_data[\"totalbed\"]=(india_data[\"population\"]/1000)*india_data[\"beds\"]\n",
    "usa_data[\"totalbed\"]=(usa_data[\"population\"]/1000)*usa_data[\"beds\"]"
   ]
  },
  {
   "cell_type": "code",
   "execution_count": 19,
   "metadata": {},
   "outputs": [
    {
     "data": {
      "text/html": [
       "<div>\n",
       "<style scoped>\n",
       "    .dataframe tbody tr th:only-of-type {\n",
       "        vertical-align: middle;\n",
       "    }\n",
       "\n",
       "    .dataframe tbody tr th {\n",
       "        vertical-align: top;\n",
       "    }\n",
       "\n",
       "    .dataframe thead th {\n",
       "        text-align: right;\n",
       "    }\n",
       "</style>\n",
       "<table border=\"1\" class=\"dataframe\">\n",
       "  <thead>\n",
       "    <tr style=\"text-align: right;\">\n",
       "      <th></th>\n",
       "      <th>state</th>\n",
       "      <th>beds</th>\n",
       "      <th>population</th>\n",
       "      <th>year</th>\n",
       "      <th>totalbed</th>\n",
       "    </tr>\n",
       "  </thead>\n",
       "  <tbody>\n",
       "    <tr>\n",
       "      <td>0</td>\n",
       "      <td>AN</td>\n",
       "      <td>2.825081</td>\n",
       "      <td>380520</td>\n",
       "      <td>2016</td>\n",
       "      <td>1074.999822</td>\n",
       "    </tr>\n",
       "    <tr>\n",
       "      <td>1</td>\n",
       "      <td>AP</td>\n",
       "      <td>0.436072</td>\n",
       "      <td>53060000</td>\n",
       "      <td>2017</td>\n",
       "      <td>23137.980320</td>\n",
       "    </tr>\n",
       "    <tr>\n",
       "      <td>2</td>\n",
       "      <td>AR</td>\n",
       "      <td>1.427893</td>\n",
       "      <td>1683600</td>\n",
       "      <td>2018</td>\n",
       "      <td>2404.000655</td>\n",
       "    </tr>\n",
       "    <tr>\n",
       "      <td>3</td>\n",
       "      <td>AS</td>\n",
       "      <td>0.497753</td>\n",
       "      <td>34438756</td>\n",
       "      <td>2017</td>\n",
       "      <td>17141.994115</td>\n",
       "    </tr>\n",
       "    <tr>\n",
       "      <td>4</td>\n",
       "      <td>BR</td>\n",
       "      <td>0.094838</td>\n",
       "      <td>122988691</td>\n",
       "      <td>2018</td>\n",
       "      <td>11664.001477</td>\n",
       "    </tr>\n",
       "  </tbody>\n",
       "</table>\n",
       "</div>"
      ],
      "text/plain": [
       "  state      beds  population  year      totalbed\n",
       "0    AN  2.825081      380520  2016   1074.999822\n",
       "1    AP  0.436072    53060000  2017  23137.980320\n",
       "2    AR  1.427893     1683600  2018   2404.000655\n",
       "3    AS  0.497753    34438756  2017  17141.994115\n",
       "4    BR  0.094838   122988691  2018  11664.001477"
      ]
     },
     "execution_count": 19,
     "metadata": {},
     "output_type": "execute_result"
    }
   ],
   "source": [
    "india_data.head()"
   ]
  },
  {
   "cell_type": "code",
   "execution_count": 32,
   "metadata": {},
   "outputs": [
    {
     "data": {
      "image/png": "[encoded data removed]",
      "text/plain": [
       "<Figure size 432x288 with 1 Axes>"
      ]
     },
     "metadata": {
      "needs_background": "light"
     },
     "output_type": "display_data"
    },
    {
     "data": {
      "image/png": "[encoded data removed]",
      "text/plain": [
       "<Figure size 432x288 with 1 Axes>"
      ]
     },
     "metadata": {
      "needs_background": "light"
     },
     "output_type": "display_data"
    }
   ],
   "source": [
    "india_data[['totalbed', 'year']].groupby('year').sum().totalbed.plot(kind='bar')\n",
    "plt.ylabel(\"Total Number of bed\")\n",
    "plt.xlabel(\"Year\")\n",
    "plt.title(\"India\")\n",
    "plt.show()\n",
    "usa_data[['totalbed', 'year']].groupby('year').sum().totalbed.plot(kind='bar')\n",
    "plt.ylabel(\"Total Number of bed\")\n",
    "plt.xlabel(\"Year\")\n",
    "plt.title(\"USA\")\n",
    "plt.show()"
   ]
  },
  {
   "cell_type": "code",
   "execution_count": 21,
   "metadata": {},
   "outputs": [],
   "source": [
    "india_data[\"bed_perct\"]=india_data[\"beds\"]/india_data[\"population\"]\n",
    "usa_data[\"bed_perct\"]=usa_data[\"beds\"]/usa_data[\"population\"]"
   ]
  },
  {
   "cell_type": "code",
   "execution_count": 22,
   "metadata": {},
   "outputs": [
    {
     "data": {
      "image/png": "[encoded data removed]",
      "text/plain": [
       "<Figure size 432x288 with 1 Axes>"
      ]
     },
     "metadata": {
      "needs_background": "light"
     },
     "output_type": "display_data"
    }
   ],
   "source": [
    "usa_data[['bed_perct', 'year']].groupby('year').sum().bed_perct.plot(kind='line')\n",
    "plt.ylabel(\"Bed Percent\")\n",
    "plt.xlabel(\"Year\")\n",
    "plt.title(\"USA\")\n",
    "plt.show()"
   ]
  },
  {
   "cell_type": "code",
   "execution_count": 23,
   "metadata": {},
   "outputs": [
    {
     "data": {
      "image/png": "[encoded data removed]",
      "text/plain": [
       "<Figure size 432x288 with 1 Axes>"
      ]
     },
     "metadata": {
      "needs_background": "light"
     },
     "output_type": "display_data"
    }
   ],
   "source": [
    "india_data[['bed_perct', 'year']].groupby('year').sum().bed_perct.plot(kind='line')\n",
    "plt.ylabel(\"Bed Percent\")\n",
    "plt.xlabel(\"Year\")\n",
    "plt.title(\"India\")\n",
    "plt.show()"
   ]
  },
  {
   "cell_type": "code",
   "execution_count": 24,
   "metadata": {},
   "outputs": [
    {
     "data": {
      "image/png": "[encoded data removed]",
      "text/plain": [
       "<Figure size 432x288 with 1 Axes>"
      ]
     },
     "metadata": {},
     "output_type": "display_data"
    }
   ],
   "source": [
    "fig1, ax1 = plt.subplots()\n",
    "ax1.pie(usa_data[['totalbed', 'type']].groupby('type').sum().totalbed,  labels=usa_data[\"type\"].unique(), autopct='%1.1f%%',\n",
    "        shadow=True, startangle=90)\n",
    "ax1.axis('equal')  \n",
    "plt.title(\"Types of Bed Avaliable USA\")\n",
    "plt.show()"
   ]
  },
  {
   "cell_type": "code",
   "execution_count": 25,
   "metadata": {},
   "outputs": [
    {
     "data": {
      "image/png": "[encoded data removed]",
      "text/plain": [
       "<Figure size 432x288 with 1 Axes>"
      ]
     },
     "metadata": {},
     "output_type": "display_data"
    }
   ],
   "source": [
    "temp=sum(india_data[\"totalbed\"])\n",
    "(india_data[[\"totalbed\",\"year\"]].groupby(\"year\").sum().totalbed/temp).plot(kind=\"pie\",shadow=True,autopct=\"%1.1f%%\",radius=1.2,startangle=120)                                                                      \n",
    "plt.title(\"Total Bed Avaliable India\",loc=\"center\")\n",
    "plt.show()"
   ]
  },
  {
   "cell_type": "code",
   "execution_count": 26,
   "metadata": {},
   "outputs": [
    {
     "data": {
      "text/html": [
       "<div>\n",
       "<style scoped>\n",
       "    .dataframe tbody tr th:only-of-type {\n",
       "        vertical-align: middle;\n",
       "    }\n",
       "\n",
       "    .dataframe tbody tr th {\n",
       "        vertical-align: top;\n",
       "    }\n",
       "\n",
       "    .dataframe thead th {\n",
       "        text-align: right;\n",
       "    }\n",
       "</style>\n",
       "<table border=\"1\" class=\"dataframe\">\n",
       "  <thead>\n",
       "    <tr style=\"text-align: right;\">\n",
       "      <th></th>\n",
       "      <th>state</th>\n",
       "      <th>beds</th>\n",
       "      <th>population</th>\n",
       "      <th>year</th>\n",
       "      <th>totalbed</th>\n",
       "      <th>bed_perct</th>\n",
       "    </tr>\n",
       "  </thead>\n",
       "  <tbody>\n",
       "    <tr>\n",
       "      <td>0</td>\n",
       "      <td>AN</td>\n",
       "      <td>2.825081</td>\n",
       "      <td>380520</td>\n",
       "      <td>2016</td>\n",
       "      <td>1074.999822</td>\n",
       "      <td>7.424264e-06</td>\n",
       "    </tr>\n",
       "    <tr>\n",
       "      <td>1</td>\n",
       "      <td>AP</td>\n",
       "      <td>0.436072</td>\n",
       "      <td>53060000</td>\n",
       "      <td>2017</td>\n",
       "      <td>23137.980320</td>\n",
       "      <td>8.218470e-09</td>\n",
       "    </tr>\n",
       "    <tr>\n",
       "      <td>2</td>\n",
       "      <td>AR</td>\n",
       "      <td>1.427893</td>\n",
       "      <td>1683600</td>\n",
       "      <td>2018</td>\n",
       "      <td>2404.000655</td>\n",
       "      <td>8.481189e-07</td>\n",
       "    </tr>\n",
       "    <tr>\n",
       "      <td>3</td>\n",
       "      <td>AS</td>\n",
       "      <td>0.497753</td>\n",
       "      <td>34438756</td>\n",
       "      <td>2017</td>\n",
       "      <td>17141.994115</td>\n",
       "      <td>1.445328e-08</td>\n",
       "    </tr>\n",
       "    <tr>\n",
       "      <td>4</td>\n",
       "      <td>BR</td>\n",
       "      <td>0.094838</td>\n",
       "      <td>122988691</td>\n",
       "      <td>2018</td>\n",
       "      <td>11664.001477</td>\n",
       "      <td>7.711115e-10</td>\n",
       "    </tr>\n",
       "  </tbody>\n",
       "</table>\n",
       "</div>"
      ],
      "text/plain": [
       "  state      beds  population  year      totalbed     bed_perct\n",
       "0    AN  2.825081      380520  2016   1074.999822  7.424264e-06\n",
       "1    AP  0.436072    53060000  2017  23137.980320  8.218470e-09\n",
       "2    AR  1.427893     1683600  2018   2404.000655  8.481189e-07\n",
       "3    AS  0.497753    34438756  2017  17141.994115  1.445328e-08\n",
       "4    BR  0.094838   122988691  2018  11664.001477  7.711115e-10"
      ]
     },
     "execution_count": 26,
     "metadata": {},
     "output_type": "execute_result"
    }
   ],
   "source": [
    "india_data.head()\n"
   ]
  },
  {
   "cell_type": "code",
   "execution_count": 34,
   "metadata": {},
   "outputs": [
    {
     "data": {
      "image/png": "[encoded data removed]",
      "text/plain": [
       "<Figure size 1296x504 with 1 Axes>"
      ]
     },
     "metadata": {
      "needs_background": "light"
     },
     "output_type": "display_data"
    }
   ],
   "source": [
    "plt.figure(figsize=(18,7))\n",
    "usa_data[[\"state\",\"totalbed\"]].groupby(\"state\").sum().totalbed.plot(kind=\"bar\")\n",
    "plt.ylabel(\"Total Bed\")\n",
    "plt.xlabel(\"State\")\n",
    "plt.title(\"USA: Avaliable Beds in State\")\n",
    "plt.show()"
   ]
  },
  {
   "cell_type": "code",
   "execution_count": 28,
   "metadata": {},
   "outputs": [
    {
     "data": {
      "image/png": "[encoded data removed]",
      "text/plain": [
       "<Figure size 432x288 with 1 Axes>"
      ]
     },
     "metadata": {
      "needs_background": "light"
     },
     "output_type": "display_data"
    },
    {
     "data": {
      "image/png": "[encoded data removed]",
      "text/plain": [
       "<Figure size 432x288 with 1 Axes>"
      ]
     },
     "metadata": {
      "needs_background": "light"
     },
     "output_type": "display_data"
    }
   ],
   "source": [
    "labels = sorted(india_data[\"year\"].unique())\n",
    "population = india_data[[\"year\",\"population\"]].groupby(\"year\").sum().population\n",
    "totalbed = india_data[[\"year\",\"totalbed\"]].groupby(\"year\").sum().totalbed\n",
    "\n",
    "x = np.arange(len(labels)) \n",
    "width = 0.35  \n",
    "\n",
    "fig, ax = plt.subplots()\n",
    "rects1 = ax.bar(x - width/2, population/100, width, label='Population in Billion')\n",
    "rects2 = ax.bar(x + width/2, totalbed*10, width, label='Bed')\n",
    "\n",
    "ax.set_ylabel('Number')\n",
    "ax.set_title(\"INDIA Population vs Beds avaliable\")\n",
    "ax.set_xticks(x)\n",
    "ax.set_xticklabels(labels)\n",
    "ax.legend()\n",
    "plt.show()\n",
    "\n",
    "labels = sorted(usa_data[\"year\"].unique())\n",
    "population = usa_data[[\"year\",\"population\"]].groupby(\"year\").sum().population\n",
    "totalbed = usa_data[[\"year\",\"totalbed\"]].groupby(\"year\").sum().totalbed\n",
    "\n",
    "x = np.arange(len(labels)) \n",
    "width = 0.35  \n",
    "\n",
    "fig, ax = plt.subplots()\n",
    "rects1 = ax.bar(x - width/2, population/100, width, label='Population')\n",
    "rects2 = ax.bar(x + width/2, totalbed*10, width, label='Bed')\n",
    "\n",
    "ax.set_ylabel('Number')\n",
    "ax.set_title(\"USA Population vs Beds avaliable\")\n",
    "ax.set_xticks(x)\n",
    "ax.set_xticklabels(labels)\n",
    "ax.legend()\n",
    "plt.show()"
   ]
  },
  {
   "cell_type": "code",
   "execution_count": 29,
   "metadata": {},
   "outputs": [
    {
     "data": {
      "image/png": "[encoded data removed]",
      "text/plain": [
       "<Figure size 432x288 with 1 Axes>"
      ]
     },
     "metadata": {
      "needs_background": "light"
     },
     "output_type": "display_data"
    }
   ],
   "source": [
    "plt.plot(sorted(usa_data[\"year\"].unique()),usa_data[[\"year\",\"totalbed\"]].groupby(\"year\").sum().totalbed,'o-',label=\" USA Total Bed\")\n",
    "plt.plot(sorted(india_data[\"year\"].unique()),india_data[[\"year\",\"totalbed\"]].groupby(\"year\").sum().totalbed,'o-',label=\"India Total Bed\")\n",
    "plt.ylabel(\"Total Bed\")\n",
    "plt.xlabel(\"Year\")\n",
    "plt.title(\"India Vs USA Total Bed\")\n",
    "plt.legend()\n",
    "plt.show()"
   ]
  },
  {
   "cell_type": "code",
   "execution_count": 38,
   "metadata": {},
   "outputs": [
    {
     "data": {
      "image/png": "[encoded data removed]",
      "text/plain": [
       "<Figure size 1296x360 with 1 Axes>"
      ]
     },
     "metadata": {
      "needs_background": "light"
     },
     "output_type": "display_data"
    }
   ],
   "source": [
    "import seaborn as sns\n",
    "f, axes = plt.subplots(1,1,figsize=(18,5))\n",
    "sns.lineplot(y=\"population\", x= 'totalbed', data=india_data )\n",
    "plt.title('Population vs Total beds Plot for Usa')\n",
    "plt.show()"
   ]
  },
  {
   "cell_type": "code",
   "execution_count": 40,
   "metadata": {},
   "outputs": [
    {
     "data": {
      "image/png": "[encoded data removed]",
      "text/plain": [
       "<Figure size 1296x360 with 1 Axes>"
      ]
     },
     "metadata": {
      "needs_background": "light"
     },
     "output_type": "display_data"
    }
   ],
   "source": [
    "f, axes = plt.subplots(1,1,figsize=(18,5))\n",
    "sns.lineplot(y=\"population\", x= 'totalbed', data=usa_data )\n",
    "plt.title('Population vs Total beds Plot for Usa')\n",
    "plt.show()"
   ]
  },
  {
   "cell_type": "code",
   "execution_count": 42,
   "metadata": {},
   "outputs": [
    {
     "data": {
      "text/plain": [
       "Text(0, 0.5, 'Beds')"
      ]
     },
     "execution_count": 42,
     "metadata": {},
     "output_type": "execute_result"
    },
    {
     "data": {
      "image/png": "[encoded data removed]",
      "text/plain": [
       "<Figure size 432x288 with 1 Axes>"
      ]
     },
     "metadata": {
      "needs_background": "light"
     },
     "output_type": "display_data"
    }
   ],
   "source": [
    "usa_data[[\"totalbed\",\"type\"]].groupby('type').sum().totalbed.plot(kind=\"bar\",color=\"navy\")\n",
    "plt.title(\"USA\")\n",
    "plt.xlabel(\"Type\")\n",
    "plt.ylabel(\"Beds\")"
   ]
  },
  {
   "cell_type": "code",
   "execution_count": 43,
   "metadata": {},
   "outputs": [
    {
     "data": {
      "text/plain": [
       "<matplotlib.legend.Legend at 0x17edf6afd08>"
      ]
     },
     "execution_count": 43,
     "metadata": {},
     "output_type": "execute_result"
    },
    {
     "data": {
      "image/png": "[encoded data removed]",
      "text/plain": [
       "<Figure size 432x288 with 1 Axes>"
      ]
     },
     "metadata": {
      "needs_background": "light"
     },
     "output_type": "display_data"
    }
   ],
   "source": [
    "plt.plot(sorted(usa_data.year.unique()),usa_data[[\"year\",\"population\"]].groupby('year').sum().population,'-o',label=\"USA Population\")\n",
    "plt.plot(sorted(india_data.year.unique()),india_data[[\"year\",\"population\"]].groupby('year').sum().population,'g-D',label=\"India Population\")\n",
    "plt.ylabel(\"Population\")\n",
    "plt.xlabel(\"Year\")\n",
    "plt.title(\"India vs USA Population\")\n",
    "plt.legend()"
   ]
  },
  {
   "cell_type": "code",
   "execution_count": null,
   "metadata": {},
   "outputs": [],
   "source": []
  }
 ],
 "metadata": {
  "kernelspec": {
   "display_name": "Python 3",
   "language": "python",
   "name": "python3"
  },
  "language_info": {
   "codemirror_mode": {
    "name": "ipython",
    "version": 3
   },
   "file_extension": ".py",
   "mimetype": "text/x-python",
   "name": "python",
   "nbconvert_exporter": "python",
   "pygments_lexer": "ipython3",
   "version": "3.7.4"
  }
 },
 "nbformat": 4,
 "nbformat_minor": 2
}
