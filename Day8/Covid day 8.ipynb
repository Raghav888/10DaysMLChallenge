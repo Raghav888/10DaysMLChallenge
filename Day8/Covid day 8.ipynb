{
 "cells": [
  {
   "cell_type": "code",
   "execution_count": 46,
   "metadata": {},
   "outputs": [
    {
     "data": {
      "text/plain": [
       "\"from azureml.core import Workspace, Dataset\\n\\nsubscription_id = 'e3d40f50-727b-419f-ae16-af0880e201e1'\\nresource_group = 'One'\\nworkspace_name = 'trial123'\\n\\nworkspace = Workspace(subscription_id, resource_group, workspace_name)\\n\\ndataset = Dataset.get_by_name(workspace, name='Covid19CTSCAN')\\ndataset.download(target_path='.', overwrite=True)\""
      ]
     },
     "execution_count": 46,
     "metadata": {},
     "output_type": "execute_result"
    }
   ],
   "source": [
    "# azureml-core of version 1.0.72 or higher is required\n",
    "\"\"\"from azureml.core import Workspace, Dataset\n",
    "\n",
    "subscription_id = 'e3d40f50-727b-419f-ae16-af0880e201e1'\n",
    "resource_group = 'One'\n",
    "workspace_name = 'trial123'\n",
    "\n",
    "workspace = Workspace(subscription_id, resource_group, workspace_name)\n",
    "\n",
    "dataset = Dataset.get_by_name(workspace, name='Covid19CTSCAN')\n",
    "dataset.download(target_path='.', overwrite=True)\"\"\""
   ]
  },
  {
   "cell_type": "code",
   "execution_count": 47,
   "metadata": {
    "jupyter": {
     "outputs_hidden": false,
     "source_hidden": false
    },
    "nteract": {
     "transient": {
      "deleting": false
     }
    }
   },
   "outputs": [
    {
     "data": {
      "text/plain": [
       "'import zipfile\\nwith zipfile.ZipFile(\"covid.zip\", \\'r\\') as zip_ref:\\n    zip_ref.extractall(\"\")'"
      ]
     },
     "execution_count": 47,
     "metadata": {},
     "output_type": "execute_result"
    }
   ],
   "source": [
    "\"\"\"import zipfile\n",
    "with zipfile.ZipFile(\"covid.zip\", 'r') as zip_ref:\n",
    "    zip_ref.extractall(\"\")\"\"\""
   ]
  },
  {
   "cell_type": "code",
   "execution_count": 70,
   "metadata": {},
   "outputs": [],
   "source": [
    "import pandas as pd\n",
    "import numpy as np\n",
    "from tqdm import tqdm\n",
    "from keras.utils.np_utils import to_categorical\n",
    "import cv2\n",
    "import tensorflow as tf\n",
    "\n"
   ]
  },
  {
   "cell_type": "code",
   "execution_count": 71,
   "metadata": {},
   "outputs": [],
   "source": [
    "disease_types=['COVID', 'non-COVID']\n",
    "data_dir = ''\n",
    "train_dir = os.path.join(data_dir)"
   ]
  },
  {
   "cell_type": "code",
   "execution_count": 72,
   "metadata": {},
   "outputs": [],
   "source": [
    "train_data = []\n",
    "for defects_id, sp in enumerate(disease_types):\n",
    "    for file in os.listdir(os.path.join(train_dir, sp)):\n",
    "        train_data.append(['{}/{}'.format(sp, file), defects_id, sp])      \n",
    "train = pd.DataFrame(train_data, columns=['File', 'DiseaseID','Disease Type'])"
   ]
  },
  {
   "cell_type": "code",
   "execution_count": 73,
   "metadata": {},
   "outputs": [],
   "source": [
    "IMAGE_SIZE = 64\n",
    "def read_image(filepath):\n",
    "    return cv2.imread(os.path.join(data_dir, filepath)) \n",
    "def resize_image(image, image_size):\n",
    "    return cv2.resize(image.copy(), image_size, interpolation=cv2.INTER_AREA)"
   ]
  },
  {
   "cell_type": "code",
   "execution_count": 74,
   "metadata": {},
   "outputs": [
    {
     "name": "stderr",
     "output_type": "stream",
     "text": [
      "2481it [04:14,  9.76it/s]\n"
     ]
    },
    {
     "name": "stdout",
     "output_type": "stream",
     "text": [
      "(2481, 64, 64, 3)\n"
     ]
    }
   ],
   "source": [
    "X_train = np.zeros((train.shape[0], IMAGE_SIZE, IMAGE_SIZE, 3))\n",
    "for i, file in tqdm(enumerate(train['File'].values)):\n",
    "    image = read_image(file)\n",
    "    if image is not None:\n",
    "        X_train[i] = resize_image(image, (IMAGE_SIZE, IMAGE_SIZE))\n",
    "X_Train = X_train / 255.\n",
    "print(X_Train.shape)"
   ]
  },
  {
   "cell_type": "code",
   "execution_count": 75,
   "metadata": {},
   "outputs": [],
   "source": [
    "Y_train = train['DiseaseID'].values\n",
    "Y_train = to_categorical(Y_train, num_classes=2)"
   ]
  },
  {
   "cell_type": "code",
   "execution_count": 76,
   "metadata": {},
   "outputs": [],
   "source": [
    "from sklearn.model_selection import train_test_split\n",
    "X_train, X_val, Y_train, Y_val = train_test_split(X_Train, Y_train, test_size=0.1)"
   ]
  },
  {
   "cell_type": "code",
   "execution_count": 89,
   "metadata": {},
   "outputs": [],
   "source": [
    "from keras.models import Sequential\n",
    "from keras.layers import Dense, Conv2D, MaxPool2D , Flatten\n",
    "model = Sequential()\n",
    "model.add(Conv2D(input_shape=(64,64,3),filters=64,kernel_size=(3,3),padding=\"same\", activation=\"relu\"))\n",
    "model.add(Conv2D(filters=64,kernel_size=(3,3),padding=\"same\", activation=\"relu\"))\n",
    "model.add(MaxPool2D(pool_size=(2,2),strides=(2,2)))\n",
    "model.add(Conv2D(filters=128, kernel_size=(3,3), padding=\"same\", activation=\"relu\"))\n",
    "model.add(Conv2D(filters=128, kernel_size=(3,3), padding=\"same\", activation=\"relu\"))\n",
    "model.add(MaxPool2D(pool_size=(2,2),strides=(2,2)))\n",
    "model.add(Conv2D(filters=256, kernel_size=(3,3), padding=\"same\", activation=\"relu\"))\n",
    "model.add(Conv2D(filters=256, kernel_size=(3,3), padding=\"same\", activation=\"relu\"))\n",
    "model.add(Conv2D(filters=256, kernel_size=(3,3), padding=\"same\", activation=\"relu\"))\n",
    "model.add(MaxPool2D(pool_size=(2,2),strides=(2,2)))\n",
    "model.add(Conv2D(filters=512, kernel_size=(3,3), padding=\"same\", activation=\"relu\"))\n",
    "model.add(Conv2D(filters=512, kernel_size=(3,3), padding=\"same\", activation=\"relu\"))\n",
    "model.add(Conv2D(filters=512, kernel_size=(3,3), padding=\"same\", activation=\"relu\"))\n",
    "model.add(MaxPool2D(pool_size=(2,2),strides=(2,2)))\n",
    "model.add(Conv2D(filters=512, kernel_size=(3,3), padding=\"same\", activation=\"relu\"))\n",
    "model.add(Conv2D(filters=512, kernel_size=(3,3), padding=\"same\", activation=\"relu\"))\n",
    "model.add(Conv2D(filters=512, kernel_size=(3,3), padding=\"same\", activation=\"relu\"))\n",
    "model.add(MaxPool2D(pool_size=(2,2),strides=(2,2)))\n",
    "model.add(Flatten())\n",
    "model.add(Dense(units=4096,activation=\"relu\"))\n",
    "model.add(Dense(units=4096,activation=\"relu\"))\n",
    "model.add(Dense(units=2, activation=\"softmax\"))"
   ]
  },
  {
   "cell_type": "code",
   "execution_count": 90,
   "metadata": {},
   "outputs": [],
   "source": [
    "import keras_preprocessing\n",
    "from keras_preprocessing import image\n",
    "from keras_preprocessing.image import ImageDataGenerator"
   ]
  },
  {
   "cell_type": "code",
   "execution_count": 91,
   "metadata": {},
   "outputs": [
    {
     "name": "stdout",
     "output_type": "stream",
     "text": [
      "Epoch 1/100\n",
      "30/30 [==============================] - 10s 347ms/step - loss: 3493.7046 - accuracy: 0.4796 - val_loss: 1.9999 - val_accuracy: 0.4859\n",
      "Epoch 2/100\n",
      "30/30 [==============================] - 6s 193ms/step - loss: 10.3642 - accuracy: 0.5131 - val_loss: 479.3331 - val_accuracy: 0.4739\n",
      "Epoch 3/100\n",
      "30/30 [==============================] - 5s 176ms/step - loss: 0.7235 - accuracy: 0.4844 - val_loss: 749.4585 - val_accuracy: 0.5060\n",
      "Epoch 4/100\n",
      "30/30 [==============================] - 5s 177ms/step - loss: 0.7022 - accuracy: 0.4990 - val_loss: 27.6954 - val_accuracy: 0.5060\n",
      "Epoch 5/100\n",
      "30/30 [==============================] - 5s 177ms/step - loss: 4584.1464 - accuracy: 0.4974 - val_loss: 857.3862 - val_accuracy: 0.5060\n",
      "Epoch 6/100\n",
      "30/30 [==============================] - 5s 176ms/step - loss: 3094.0429 - accuracy: 0.4874 - val_loss: 2225.9775 - val_accuracy: 0.4940\n",
      "Epoch 7/100\n",
      "30/30 [==============================] - 5s 176ms/step - loss: 6616.5028 - accuracy: 0.4953 - val_loss: 3.7215 - val_accuracy: 0.5060\n",
      "Epoch 8/100\n",
      "30/30 [==============================] - 5s 176ms/step - loss: 4.1204 - accuracy: 0.4854 - val_loss: 1.7451 - val_accuracy: 0.5060\n",
      "Epoch 9/100\n",
      "30/30 [==============================] - 5s 175ms/step - loss: 1.0675 - accuracy: 0.4995 - val_loss: 0.7126 - val_accuracy: 0.5060\n",
      "Epoch 10/100\n",
      "30/30 [==============================] - 5s 176ms/step - loss: 0.7027 - accuracy: 0.5136 - val_loss: 0.6959 - val_accuracy: 0.5060\n",
      "Epoch 11/100\n",
      "30/30 [==============================] - 5s 175ms/step - loss: 0.6990 - accuracy: 0.5058 - val_loss: 0.7360 - val_accuracy: 0.4940\n",
      "Epoch 12/100\n",
      "30/30 [==============================] - 5s 176ms/step - loss: 0.7064 - accuracy: 0.5200 - val_loss: 0.6933 - val_accuracy: 0.4940\n",
      "Epoch 13/100\n",
      "30/30 [==============================] - 5s 176ms/step - loss: 0.6952 - accuracy: 0.5198 - val_loss: 0.6932 - val_accuracy: 0.4940\n",
      "Epoch 14/100\n",
      "30/30 [==============================] - 5s 176ms/step - loss: 0.6988 - accuracy: 0.5094 - val_loss: 0.7039 - val_accuracy: 0.4940\n",
      "Epoch 15/100\n",
      "30/30 [==============================] - 5s 176ms/step - loss: 0.6972 - accuracy: 0.5078 - val_loss: 0.6937 - val_accuracy: 0.5060\n",
      "Epoch 16/100\n",
      "30/30 [==============================] - 5s 175ms/step - loss: 0.6982 - accuracy: 0.4984 - val_loss: 0.6996 - val_accuracy: 0.5060\n",
      "Epoch 17/100\n",
      "30/30 [==============================] - 5s 176ms/step - loss: 0.6968 - accuracy: 0.5000 - val_loss: 0.7174 - val_accuracy: 0.4940\n",
      "Epoch 18/100\n",
      "30/30 [==============================] - 5s 175ms/step - loss: 0.7031 - accuracy: 0.5110 - val_loss: 0.6972 - val_accuracy: 0.5060\n",
      "Epoch 19/100\n",
      "30/30 [==============================] - 5s 176ms/step - loss: 0.6980 - accuracy: 0.5042 - val_loss: 0.7193 - val_accuracy: 0.5060\n",
      "Epoch 20/100\n",
      "30/30 [==============================] - 5s 177ms/step - loss: 0.7397 - accuracy: 0.4937 - val_loss: 0.6966 - val_accuracy: 0.5060\n",
      "Epoch 21/100\n",
      "30/30 [==============================] - 5s 175ms/step - loss: 0.7595 - accuracy: 0.5058 - val_loss: 0.7010 - val_accuracy: 0.5060\n",
      "Epoch 22/100\n",
      "30/30 [==============================] - 5s 176ms/step - loss: 0.7160 - accuracy: 0.4922 - val_loss: 0.6935 - val_accuracy: 0.5060\n",
      "Epoch 23/100\n",
      "30/30 [==============================] - 5s 176ms/step - loss: 0.7222 - accuracy: 0.5115 - val_loss: 0.7060 - val_accuracy: 0.5060\n",
      "Epoch 24/100\n",
      "30/30 [==============================] - 5s 176ms/step - loss: 0.7073 - accuracy: 0.5026 - val_loss: 0.7047 - val_accuracy: 0.5060\n",
      "Epoch 25/100\n",
      "30/30 [==============================] - 5s 176ms/step - loss: 0.7028 - accuracy: 0.4953 - val_loss: 0.6994 - val_accuracy: 0.5060\n",
      "Epoch 26/100\n",
      "30/30 [==============================] - 5s 176ms/step - loss: 0.6965 - accuracy: 0.5021 - val_loss: 0.6931 - val_accuracy: 0.5060\n",
      "Epoch 27/100\n",
      "30/30 [==============================] - 5s 176ms/step - loss: 0.6988 - accuracy: 0.4916 - val_loss: 0.6972 - val_accuracy: 0.5060\n",
      "Epoch 28/100\n",
      "30/30 [==============================] - 5s 175ms/step - loss: 0.6934 - accuracy: 0.5173 - val_loss: 0.6955 - val_accuracy: 0.4940\n",
      "Epoch 29/100\n",
      "30/30 [==============================] - 5s 176ms/step - loss: 0.6944 - accuracy: 0.4906 - val_loss: 0.6943 - val_accuracy: 0.4940\n",
      "Epoch 30/100\n",
      "30/30 [==============================] - 5s 176ms/step - loss: 0.6948 - accuracy: 0.5021 - val_loss: 0.6950 - val_accuracy: 0.5060\n",
      "Epoch 31/100\n",
      "30/30 [==============================] - 5s 176ms/step - loss: 0.6942 - accuracy: 0.5137 - val_loss: 0.6932 - val_accuracy: 0.5060\n",
      "Epoch 32/100\n",
      "30/30 [==============================] - 5s 176ms/step - loss: 0.6982 - accuracy: 0.4865 - val_loss: 0.6938 - val_accuracy: 0.4940\n",
      "Epoch 33/100\n",
      "30/30 [==============================] - 5s 176ms/step - loss: 0.6958 - accuracy: 0.5037 - val_loss: 0.6934 - val_accuracy: 0.4940\n",
      "Epoch 34/100\n",
      "30/30 [==============================] - 5s 176ms/step - loss: 0.6948 - accuracy: 0.5031 - val_loss: 0.6958 - val_accuracy: 0.4940\n",
      "Epoch 35/100\n",
      "30/30 [==============================] - 5s 176ms/step - loss: 0.6944 - accuracy: 0.5120 - val_loss: 0.6965 - val_accuracy: 0.5060\n",
      "Epoch 36/100\n",
      "30/30 [==============================] - 5s 176ms/step - loss: 0.6969 - accuracy: 0.4854 - val_loss: 0.6940 - val_accuracy: 0.4940\n",
      "Epoch 37/100\n",
      "30/30 [==============================] - 5s 176ms/step - loss: 0.6951 - accuracy: 0.5000 - val_loss: 0.6945 - val_accuracy: 0.5060\n",
      "Epoch 38/100\n",
      "30/30 [==============================] - 5s 175ms/step - loss: 0.6976 - accuracy: 0.4916 - val_loss: 0.6932 - val_accuracy: 0.5060\n",
      "Epoch 39/100\n",
      "30/30 [==============================] - 5s 175ms/step - loss: 0.6954 - accuracy: 0.4942 - val_loss: 0.7040 - val_accuracy: 0.5060\n",
      "Epoch 40/100\n",
      "30/30 [==============================] - 5s 176ms/step - loss: 0.6978 - accuracy: 0.4854 - val_loss: 0.6932 - val_accuracy: 0.5060\n",
      "Epoch 41/100\n",
      "30/30 [==============================] - 5s 176ms/step - loss: 0.6974 - accuracy: 0.4864 - val_loss: 0.6949 - val_accuracy: 0.5060\n",
      "Epoch 42/100\n",
      "30/30 [==============================] - 5s 176ms/step - loss: 0.6989 - accuracy: 0.5026 - val_loss: 0.6931 - val_accuracy: 0.5060\n",
      "Epoch 43/100\n",
      "30/30 [==============================] - 5s 176ms/step - loss: 0.6963 - accuracy: 0.5005 - val_loss: 0.6932 - val_accuracy: 0.4940\n",
      "Epoch 44/100\n",
      "30/30 [==============================] - 5s 175ms/step - loss: 0.6943 - accuracy: 0.4995 - val_loss: 0.6939 - val_accuracy: 0.5060\n",
      "Epoch 45/100\n",
      "30/30 [==============================] - 5s 176ms/step - loss: 0.7005 - accuracy: 0.4922 - val_loss: 0.6999 - val_accuracy: 0.5060\n",
      "Epoch 46/100\n",
      "30/30 [==============================] - 5s 177ms/step - loss: 0.6967 - accuracy: 0.4891 - val_loss: 0.6932 - val_accuracy: 0.4940\n",
      "Epoch 47/100\n",
      "30/30 [==============================] - 5s 175ms/step - loss: 0.6971 - accuracy: 0.5042 - val_loss: 0.6965 - val_accuracy: 0.5060\n",
      "Epoch 48/100\n",
      "30/30 [==============================] - 5s 176ms/step - loss: 0.6957 - accuracy: 0.4901 - val_loss: 0.6931 - val_accuracy: 0.5060\n",
      "Epoch 49/100\n",
      "30/30 [==============================] - 5s 175ms/step - loss: 0.6953 - accuracy: 0.5194 - val_loss: 0.6940 - val_accuracy: 0.5060\n",
      "Epoch 50/100\n",
      "30/30 [==============================] - 5s 176ms/step - loss: 0.6979 - accuracy: 0.4916 - val_loss: 0.6940 - val_accuracy: 0.5060\n",
      "Epoch 51/100\n",
      "30/30 [==============================] - 5s 176ms/step - loss: 0.6934 - accuracy: 0.4995 - val_loss: 0.6931 - val_accuracy: 0.5060\n",
      "Epoch 52/100\n",
      "30/30 [==============================] - 5s 176ms/step - loss: 0.6934 - accuracy: 0.4911 - val_loss: 0.6936 - val_accuracy: 0.5060\n",
      "Epoch 53/100\n",
      "30/30 [==============================] - 5s 176ms/step - loss: 0.6938 - accuracy: 0.4969 - val_loss: 0.6931 - val_accuracy: 0.5060\n",
      "Epoch 54/100\n",
      "30/30 [==============================] - 5s 177ms/step - loss: 0.6937 - accuracy: 0.4969 - val_loss: 0.6931 - val_accuracy: 0.5060\n",
      "Epoch 55/100\n",
      "30/30 [==============================] - 5s 176ms/step - loss: 0.6938 - accuracy: 0.4984 - val_loss: 0.6931 - val_accuracy: 0.5060\n",
      "Epoch 56/100\n",
      "30/30 [==============================] - 5s 176ms/step - loss: 0.6951 - accuracy: 0.5047 - val_loss: 0.6970 - val_accuracy: 0.5060\n",
      "Epoch 57/100\n",
      "30/30 [==============================] - 5s 176ms/step - loss: 0.6985 - accuracy: 0.5094 - val_loss: 0.6965 - val_accuracy: 0.5060\n"
     ]
    },
    {
     "name": "stdout",
     "output_type": "stream",
     "text": [
      "Epoch 58/100\n",
      "30/30 [==============================] - 5s 176ms/step - loss: 0.6960 - accuracy: 0.4806 - val_loss: 0.6935 - val_accuracy: 0.5060\n",
      "Epoch 59/100\n",
      "30/30 [==============================] - 5s 175ms/step - loss: 0.6951 - accuracy: 0.4854 - val_loss: 0.6931 - val_accuracy: 0.5060\n",
      "Epoch 60/100\n",
      "30/30 [==============================] - 5s 176ms/step - loss: 0.6933 - accuracy: 0.5058 - val_loss: 0.6931 - val_accuracy: 0.5060\n",
      "Epoch 61/100\n",
      "30/30 [==============================] - 5s 176ms/step - loss: 0.6925 - accuracy: 0.5078 - val_loss: 0.6995 - val_accuracy: 0.5060\n",
      "Epoch 62/100\n",
      "30/30 [==============================] - 5s 176ms/step - loss: 0.6973 - accuracy: 0.5047 - val_loss: 0.6959 - val_accuracy: 0.4940\n",
      "Epoch 63/100\n",
      "30/30 [==============================] - 5s 176ms/step - loss: 0.6946 - accuracy: 0.4979 - val_loss: 0.6934 - val_accuracy: 0.5060\n",
      "Epoch 64/100\n",
      "30/30 [==============================] - 5s 176ms/step - loss: 0.6942 - accuracy: 0.4927 - val_loss: 0.6931 - val_accuracy: 0.5060\n",
      "Epoch 65/100\n",
      "30/30 [==============================] - 5s 176ms/step - loss: 0.6942 - accuracy: 0.4974 - val_loss: 0.6938 - val_accuracy: 0.4940\n",
      "Epoch 66/100\n",
      "30/30 [==============================] - 5s 175ms/step - loss: 0.6938 - accuracy: 0.4995 - val_loss: 0.6931 - val_accuracy: 0.5060\n",
      "Epoch 67/100\n",
      "30/30 [==============================] - 5s 176ms/step - loss: 0.6938 - accuracy: 0.4870 - val_loss: 0.6931 - val_accuracy: 0.5060\n",
      "Epoch 68/100\n",
      "30/30 [==============================] - 5s 176ms/step - loss: 0.6932 - accuracy: 0.5068 - val_loss: 0.6933 - val_accuracy: 0.5060\n",
      "Epoch 69/100\n",
      "30/30 [==============================] - 5s 176ms/step - loss: 0.6938 - accuracy: 0.5005 - val_loss: 0.6935 - val_accuracy: 0.4940\n",
      "Epoch 70/100\n",
      "30/30 [==============================] - 5s 176ms/step - loss: 0.6943 - accuracy: 0.4953 - val_loss: 0.6932 - val_accuracy: 0.4940\n",
      "Epoch 71/100\n",
      "30/30 [==============================] - 5s 178ms/step - loss: 0.6951 - accuracy: 0.5026 - val_loss: 0.6933 - val_accuracy: 0.5060\n",
      "Epoch 72/100\n",
      "30/30 [==============================] - 5s 176ms/step - loss: 0.6949 - accuracy: 0.4932 - val_loss: 0.6936 - val_accuracy: 0.4940\n",
      "Epoch 73/100\n",
      "30/30 [==============================] - 5s 177ms/step - loss: 0.6943 - accuracy: 0.5026 - val_loss: 0.6932 - val_accuracy: 0.5060\n",
      "Epoch 74/100\n",
      "30/30 [==============================] - 5s 176ms/step - loss: 0.6944 - accuracy: 0.4770 - val_loss: 0.6932 - val_accuracy: 0.5060\n",
      "Epoch 75/100\n",
      "30/30 [==============================] - 5s 177ms/step - loss: 0.6940 - accuracy: 0.4953 - val_loss: 0.6935 - val_accuracy: 0.4940\n",
      "Epoch 76/100\n",
      "30/30 [==============================] - 5s 176ms/step - loss: 0.6935 - accuracy: 0.5068 - val_loss: 0.6932 - val_accuracy: 0.5060\n",
      "Epoch 77/100\n",
      "30/30 [==============================] - 5s 177ms/step - loss: 0.6948 - accuracy: 0.5047 - val_loss: 0.6955 - val_accuracy: 0.4940\n",
      "Epoch 78/100\n",
      "30/30 [==============================] - 5s 176ms/step - loss: 0.6939 - accuracy: 0.5052 - val_loss: 0.6931 - val_accuracy: 0.5060\n",
      "Epoch 79/100\n",
      "30/30 [==============================] - 5s 176ms/step - loss: 0.6937 - accuracy: 0.5047 - val_loss: 0.6931 - val_accuracy: 0.5060\n",
      "Epoch 80/100\n",
      "30/30 [==============================] - 5s 175ms/step - loss: 0.6931 - accuracy: 0.5141 - val_loss: 0.6932 - val_accuracy: 0.5060\n",
      "Epoch 81/100\n",
      "30/30 [==============================] - 5s 177ms/step - loss: 0.6939 - accuracy: 0.4874 - val_loss: 0.6933 - val_accuracy: 0.5060\n",
      "Epoch 82/100\n",
      "30/30 [==============================] - 5s 176ms/step - loss: 0.6936 - accuracy: 0.5005 - val_loss: 0.6961 - val_accuracy: 0.4940\n",
      "Epoch 83/100\n",
      "30/30 [==============================] - 5s 176ms/step - loss: 0.6951 - accuracy: 0.4958 - val_loss: 0.6931 - val_accuracy: 0.5060\n",
      "Epoch 84/100\n",
      "30/30 [==============================] - 5s 177ms/step - loss: 0.6937 - accuracy: 0.5037 - val_loss: 0.6934 - val_accuracy: 0.4940\n",
      "Epoch 85/100\n",
      "30/30 [==============================] - 5s 178ms/step - loss: 0.6936 - accuracy: 0.5235 - val_loss: 0.6956 - val_accuracy: 0.5060\n",
      "Epoch 86/100\n",
      "30/30 [==============================] - 5s 177ms/step - loss: 0.6959 - accuracy: 0.4827 - val_loss: 0.6931 - val_accuracy: 0.5060\n",
      "Epoch 87/100\n",
      "30/30 [==============================] - 5s 178ms/step - loss: 0.6937 - accuracy: 0.5000 - val_loss: 0.6949 - val_accuracy: 0.4940\n",
      "Epoch 88/100\n",
      "30/30 [==============================] - 5s 176ms/step - loss: 0.6944 - accuracy: 0.5026 - val_loss: 0.6931 - val_accuracy: 0.5060\n",
      "Epoch 89/100\n",
      "30/30 [==============================] - 5s 178ms/step - loss: 0.6936 - accuracy: 0.4974 - val_loss: 0.6931 - val_accuracy: 0.5060\n",
      "Epoch 90/100\n",
      "30/30 [==============================] - 5s 176ms/step - loss: 0.6940 - accuracy: 0.4827 - val_loss: 0.6932 - val_accuracy: 0.5060\n",
      "Epoch 91/100\n",
      "30/30 [==============================] - 5s 176ms/step - loss: 0.6935 - accuracy: 0.5058 - val_loss: 0.6951 - val_accuracy: 0.5060\n",
      "Epoch 92/100\n",
      "30/30 [==============================] - 5s 178ms/step - loss: 0.6955 - accuracy: 0.4806 - val_loss: 0.6936 - val_accuracy: 0.5060\n",
      "Epoch 93/100\n",
      "30/30 [==============================] - 5s 177ms/step - loss: 0.6936 - accuracy: 0.5094 - val_loss: 0.6932 - val_accuracy: 0.4940\n",
      "Epoch 94/100\n",
      "30/30 [==============================] - 5s 176ms/step - loss: 0.6932 - accuracy: 0.5110 - val_loss: 0.6939 - val_accuracy: 0.4940\n",
      "Epoch 95/100\n",
      "30/30 [==============================] - 5s 176ms/step - loss: 0.6937 - accuracy: 0.5126 - val_loss: 0.6938 - val_accuracy: 0.5060\n",
      "Epoch 96/100\n",
      "30/30 [==============================] - 5s 178ms/step - loss: 0.6944 - accuracy: 0.4901 - val_loss: 0.6935 - val_accuracy: 0.5060\n",
      "Epoch 97/100\n",
      "30/30 [==============================] - 5s 177ms/step - loss: 0.6936 - accuracy: 0.5000 - val_loss: 0.6947 - val_accuracy: 0.4940\n",
      "Epoch 98/100\n",
      "30/30 [==============================] - 5s 178ms/step - loss: 0.6943 - accuracy: 0.5016 - val_loss: 0.6934 - val_accuracy: 0.5060\n",
      "Epoch 99/100\n",
      "30/30 [==============================] - 5s 177ms/step - loss: 0.6940 - accuracy: 0.4932 - val_loss: 0.6933 - val_accuracy: 0.4940\n",
      "Epoch 100/100\n",
      "30/30 [==============================] - 5s 176ms/step - loss: 0.6934 - accuracy: 0.4932 - val_loss: 0.6938 - val_accuracy: 0.4940\n"
     ]
    }
   ],
   "source": [
    "from tensorflow.keras.optimizers import Adam\n",
    "\n",
    "model.compile(loss='categorical_crossentropy', optimizer=Adam(0.01), metrics=['accuracy'])\n",
    "training_datagen = ImageDataGenerator(\n",
    "      rescale = 1./255,\n",
    "\t  rotation_range=40,\n",
    "      width_shift_range=0.2,\n",
    "      height_shift_range=0.2,\n",
    "      shear_range=0.2,\n",
    "      zoom_range=0.2,\n",
    "      horizontal_flip=True,\n",
    "      fill_mode='nearest')\n",
    "\n",
    "train_generator = training_datagen.flow(\n",
    "\tX_train, Y_train,\n",
    "batch_size=64\n",
    ")\n",
    "\n",
    "training_datagen.fit(X_train)\n",
    "# Fits the model on batches with real-time data augmentation\n",
    "hist = model.fit(train_generator,\n",
    "               steps_per_epoch=30,\n",
    "               epochs=100,\n",
    "               verbose=1,\n",
    "               validation_data=(X_val, Y_val))"
   ]
  },
  {
   "cell_type": "code",
   "execution_count": 94,
   "metadata": {},
   "outputs": [
    {
     "data": {
      "image/png": "[encoded data removed]",
      "text/plain": [
       "<Figure size 432x288 with 1 Axes>"
      ]
     },
     "metadata": {
      "needs_background": "light"
     },
     "output_type": "display_data"
    },
    {
     "data": {
      "text/plain": [
       "<Figure size 432x288 with 0 Axes>"
      ]
     },
     "metadata": {},
     "output_type": "display_data"
    }
   ],
   "source": [
    "import matplotlib.pyplot as plt\n",
    "acc = hist.history['accuracy']\n",
    "val_acc = hist.history['val_accuracy']\n",
    "loss = hist.history['loss']\n",
    "val_loss = hist.history['val_loss']\n",
    "\n",
    "epochs = range(len(acc))\n",
    "\n",
    "plt.plot(epochs, acc, 'r', label='Training accuracy')\n",
    "plt.plot(epochs, val_acc, 'b', label='Validation accuracy')\n",
    "plt.title('Training and validation accuracy')\n",
    "plt.legend(loc=0)\n",
    "plt.figure()\n",
    "\n",
    "\n",
    "plt.show()"
   ]
  },
  {
   "cell_type": "code",
   "execution_count": null,
   "metadata": {},
   "outputs": [],
   "source": []
  }
 ],
 "metadata": {
  "kernel_info": {
   "name": "python3-azureml"
  },
  "kernelspec": {
   "display_name": "Python 3.6 - AzureML",
   "language": "python",
   "name": "python3-azureml"
  },
  "language_info": {
   "codemirror_mode": {
    "name": "ipython",
    "version": 3
   },
   "file_extension": ".py",
   "mimetype": "text/x-python",
   "name": "python",
   "nbconvert_exporter": "python",
   "pygments_lexer": "ipython3",
   "version": "3.6.9"
  },
  "nteract": {
   "version": "nteract-front-end@1.0.0"
  }
 },
 "nbformat": 4,
 "nbformat_minor": 2
}
